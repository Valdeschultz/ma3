{
 "cells": [
  {
   "cell_type": "markdown",
   "metadata": {},
   "source": [
    "**AI & Machine Learning (KAN-CINTO4003U) - Copenhagen Business School | Spring 2025**\n",
    "\n",
    "***"
   ]
  },
  {
   "cell_type": "markdown",
   "metadata": {},
   "source": [
    "# Part II: Agents\n",
    "\n",
    "Please see the description of the assignment in the README file (section 1) <br>\n",
    "**Guide notebooks**: [guides/router_agents_guide.ipynb](guides/agents_guide.ipynb) and [guides/tool_agents_guide.ipynb](guides/tool_agents_guide.ipynb)\n",
    "\n",
    "\n",
    "***\n",
    "<br>\n",
    "\n",
    "* Play around with the agent systems in the guides. Maybe try to create a similar system with new nodes? Or you can try to add new tools to the existing tool-using agent system.\n",
    "\n",
    "* Remember to include some reflections on your results. Are there, for example, any hyperparameters that are particularly important?\n",
    "\n",
    "* You should follow the steps given in the `router_agents_guide` notebook or the `tool_agents_guide` notebook to create your own agent system - or try to optimize the existing ones.\n",
    "\n",
    "<br>\n",
    "\n",
    "***"
   ]
  },
  {
   "cell_type": "markdown",
   "metadata": {},
   "source": [
    "## what to  do\n",
    "\n",
    " Part 2: AI Agents\n",
    "In this part, you will implement and evaluate a simple tool-using LLM Agent using LangGraph (or any other framework you want!). Specifically, your task is to:\n",
    "\n",
    "- Explore the accompanying agents guides (`guides/router_agents_guide.ipynb` and `guides/tool_agents_guide.ipynb`).\n",
    "- Use LangGraph to create a simple `router` agent *OR* tool-using LLM Agent in the `assignments/agents.ipynb` notebook.\n",
    "- Experiment with different techniques covered in the course to (possibly) improve performance over the baseline in `router_agents.ipynb` or `tool_agents.ipynb`.\n",
    "- Evaluate your AI Agent - or at least comment on how you would evaluate it.\n",
    "- Briefly reflect on the performance of your system and your choices of preprocessing, hyperparameters etc.\n",
    "    - Write your analysis as a markdown cell in the bottom of the notebook.\n"
   ]
  },
  {
   "cell_type": "markdown",
   "metadata": {},
   "source": [
    "## IMPORTS"
   ]
  },
  {
   "cell_type": "code",
   "execution_count": 2,
   "metadata": {},
   "outputs": [],
   "source": [
    "# built-in libraries\n",
    "from typing import Literal, TypedDict,  Any, Optional\n",
    "\n",
    "# langgraph libraries\n",
    "from langgraph.graph import StateGraph, START, END\n",
    "from langchain_core.runnables.graph import  MermaidDrawMethod\n",
    "\n",
    "# misc libraries\n",
    "from pydantic import Field\n",
    "from IPython.display import Image\n",
    "from decouple import config\n",
    "from ibm_watsonx_ai.metanames import GenTextParamsMetaNames as GenParams\n",
    "from tqdm import tqdm\n",
    "from sklearn.metrics import f1_score\n",
    "\n",
    "# local modules\n",
    "from src.llm import LLMCaller, BaseResponse"
   ]
  },
  {
   "cell_type": "markdown",
   "metadata": {},
   "source": [
    "ENV credentials"
   ]
  },
  {
   "cell_type": "code",
   "execution_count": 3,
   "metadata": {},
   "outputs": [],
   "source": [
    "WX_API_KEY = config(\"WX_API_KEY\")\n",
    "WX_PROJECT_ID = config(\"WX_PROJECT_ID\")\n",
    "WX_API_URL = \"https://us-south.ml.cloud.ibm.com\""
   ]
  },
  {
   "cell_type": "markdown",
   "metadata": {},
   "source": [
    "Connection "
   ]
  },
  {
   "cell_type": "code",
   "execution_count": 4,
   "metadata": {},
   "outputs": [],
   "source": [
    "model = LLMCaller(\n",
    "    api_key=WX_API_KEY,\n",
    "    project_id=WX_PROJECT_ID,\n",
    "    api_url=WX_API_URL,\n",
    "    model_id= \"watsonx/ibm/granite-3-8b-instruct\",\n",
    "    params={\n",
    "        GenParams.TEMPERATURE: 0.0,\n",
    "        GenParams.MAX_NEW_TOKENS: 50,\n",
    "        GenParams.TOP_P: 0.45,\n",
    "    }\n",
    ")"
   ]
  },
  {
   "cell_type": "markdown",
   "metadata": {},
   "source": [
    "testing connection"
   ]
  },
  {
   "cell_type": "code",
   "execution_count": 5,
   "metadata": {},
   "outputs": [
    {
     "data": {
      "text/plain": [
       "BaseResponse(answer=\"Sleek fish swims in blue,\\nSilent whispers in the flow,\\nNature's gentle hue.\")"
      ]
     },
     "execution_count": 5,
     "metadata": {},
     "output_type": "execute_result"
    }
   ],
   "source": [
    "response = model.invoke(prompt=\"Write a haiku about a fish\")\n",
    "\n",
    "response"
   ]
  },
  {
   "cell_type": "markdown",
   "metadata": {},
   "source": [
    "## simple email classification agent"
   ]
  },
  {
   "cell_type": "code",
   "execution_count": 87,
   "metadata": {},
   "outputs": [],
   "source": [
    "class EmailState(TypedDict):\n",
    "\n",
    "    email: dict[str, Any]  # The email being processed - Contains subject, sender, body, etc.\n",
    "    email_category: Optional[str]  # Category of the email (e.g., work, personal, etc.\n",
    "    spam_reason: Optional[str]  # Reason for categorizing the email as spam\n",
    "    is_spam: Optional[bool]  # Whether the email is deemed to be spam or not\n",
    "    draft: Optional[str]  # Draft response to the email\n",
    "    verbose : bool = False  # Whether to provide verbose output"
   ]
  },
  {
   "cell_type": "code",
   "execution_count": 88,
   "metadata": {},
   "outputs": [],
   "source": [
    "# Initialize our LLM\n",
    "def read_email(state: EmailState):\n",
    "    \"\"\"Mailbot reads and logs the incoming email\"\"\"\n",
    "    email = state[\"email\"]  # Extract the email from the state\n",
    "    \n",
    "    if state[\"verbose\"]:\n",
    "        print(f\"Mailbot is processing an email from {email['sender']} with subject: {email['subject']}\")\n",
    "    \n",
    "    # No state changes needed here\n",
    "    return {} # <- if we don't need to update the state, we return an empty dictionary\n",
    "\n",
    "def classify_email(state: EmailState):\n",
    "    \"\"\"Mailbot uses an LLM to determine if the email is spam or legitimate\"\"\"\n",
    "    email = state[\"email\"]  # Extract the email from the state\n",
    "    \n",
    "    # Prepare our prompt for the LLM\n",
    "    prompt = f\"\"\"Analyze this email and determine if it is spam or legitimate.\n",
    "    \n",
    "    Email:\n",
    "    From: {email['sender']}\n",
    "    Subject: {email['subject']}\n",
    "    Body: {email['body']}\n",
    "    \n",
    "    First, determine if this email is spam, phishing attempt, scam or of other malicious intend. If it is explain why.\n",
    "    If it is legitimate, categorize it into one of the categories (Transactional, Marketing, Relational, Administrative, Security/alert. thank you.)\n",
    "    \"\"\"\n",
    "    \n",
    "    # Create our response model\n",
    "    response_model = model.create_response_model(\n",
    "        \"EmailAnalysis\", \n",
    "        {\n",
    "            \"spam_reason\": (str, Field(description=\"The reasoning behind the decision.\")),\n",
    "            \"is_spam\": (bool, Field(description=\"Whether the email is spam, phishing, scam or of other malicious intend.\")),\n",
    "            \"email_category\": (Literal[\"Transactional\", \"Marketing\", \"Relational\", \"Administrative\", \"Security/alert\", \"Spam\"], Field(description=\"The category of the email.\")) \n",
    "        }\n",
    "    )\n",
    "\n",
    "    # Call the LLMCaller with the prompt and response model\n",
    "    response = model.invoke(prompt, response_model=response_model)\n",
    "\n",
    "    # Extract the response data\n",
    "    is_spam = response.is_spam\n",
    "    spam_reason = response.spam_reason\n",
    "    email_category = response.email_category\n",
    "    \n",
    "    # Return state updates\n",
    "    return {\n",
    "        \"is_spam\": is_spam,\n",
    "        \"spam_reason\": spam_reason,\n",
    "        \"email_category\": email_category,\n",
    "    }\n",
    "\n",
    "def handle_spam(state: EmailState):\n",
    "    \"\"\"Mailbot discards spam email with a note\"\"\"\n",
    "\n",
    "    if state[\"verbose\"]:\n",
    "        print(f\"Mailbot has identified the email as spam. Reason: {state['spam_reason']}\")\n",
    "        print(\"The email has been moved to the spam folder.\")\n",
    "    \n",
    "    # We're done processing this email\n",
    "    return {}\n",
    "\n",
    "def draft_response(state: EmailState):\n",
    "    \"\"\"Mailbot drafts a preliminary response for legitimate emails\"\"\"\n",
    "    email = state[\"email\"]  # Extract the email from the state\n",
    "    category = state[\"email_category\"] or \"general\"  # Default to a general category if not specified\n",
    "    \n",
    "    # Prepare our prompt for the LLM\n",
    "    prompt = f\"\"\"Draft a polite preliminary response to this email.\n",
    "    \n",
    "    Email:\n",
    "    From: {email['sender']}\n",
    "    Subject: {email['subject']}\n",
    "    Body: {email['body']}\n",
    "    \n",
    "    This email has been categorized as: {category}\n",
    "    \n",
    "    Draft a brief, professional response that your employer can review and personalize before sending.\n",
    "    \"\"\"\n",
    "    \n",
    "    # Call the LLM - this time without a custom response model\n",
    "    response = model.invoke(prompt) # we can use the default response model here\n",
    "    answer = response.answer  # Extract the response from the LLM\n",
    "\n",
    "    # Return state updates\n",
    "    return {\"draft\": answer}  # add the draft response to the state\n",
    "\n",
    "\n",
    "def notify(state: EmailState):\n",
    "    \"\"\"Mailbot notifies its employer about the email and presents the draft response\"\"\"\n",
    "    email = state[\"email\"]  # Extract the email from the state\n",
    "    \n",
    "    if state[\"verbose\"]:\n",
    "        # some pretty printing to emulate the notification\n",
    "        print(\"\\n\" + \"=\"*50)\n",
    "        print(f\"Hi boss, you've received an email from {email['sender']}.\")\n",
    "        print(f\"Subject: {email['subject']}\")\n",
    "        print(f\"Category: {state['email_category']}\")\n",
    "        print(\"\\nI've prepared a draft response for your review:\")\n",
    "        print(\"-\"*50)\n",
    "        print(state[\"draft\"])\n",
    "        print(\"=\"*50 + \"\\n\")\n",
    "    \n",
    "    # We're done processing this email\n",
    "    return {}"
   ]
  },
  {
   "cell_type": "markdown",
   "metadata": {},
   "source": [
    "Making the edge fucntions - what happens next\n"
   ]
  },
  {
   "cell_type": "code",
   "execution_count": 89,
   "metadata": {},
   "outputs": [],
   "source": [
    "def route_email(state: EmailState) -> str:\n",
    "    \"\"\"Determine the next step based on spam classification\"\"\"\n",
    "    if state[\"is_spam\"]:  # If the email is spam\n",
    "        return \"spam\"  # Route to the spam handling step\n",
    "    else:\n",
    "        return \"legitimate\"  # Route to legitimate email handling step"
   ]
  },
  {
   "cell_type": "code",
   "execution_count": 90,
   "metadata": {},
   "outputs": [],
   "source": [
    "# DETAILED GRAPH\n",
    "# Create the graph\n",
    "email_graph = StateGraph(EmailState)  # Initialize with EmailState\n",
    "\n",
    "# Add nodes\n",
    "email_graph.add_node(\"read_email\", read_email)\n",
    "email_graph.add_node(\"classify_email\", classify_email)\n",
    "email_graph.add_node(\"handle_spam\", handle_spam)\n",
    "email_graph.add_node(\"draft_response\", draft_response)\n",
    "email_graph.add_node(\"notify\", notify)\n",
    "\n",
    "# Define edges\n",
    "email_graph.add_edge(START, \"read_email\")  # Start with reading the email\n",
    "email_graph.add_edge(\"read_email\", \"classify_email\")  # After reading, classify\n",
    "\n",
    "# Add conditional branching from classify_email\n",
    "email_graph.add_conditional_edges(\n",
    "    \"classify_email\",\n",
    "    route_email,  # Routing function\n",
    "    {\n",
    "        \"spam\": \"handle_spam\",  # Route to spam handling\n",
    "        \"legitimate\": \"draft_response\"  # Route to response drafting\n",
    "    }\n",
    ")\n",
    "\n",
    "# Add final edges\n",
    "email_graph.add_edge(\"handle_spam\", END)  # End after handling spam\n",
    "email_graph.add_edge(\"draft_response\", \"notify\")  # Draft then notify\n",
    "email_graph.add_edge(\"notify\", END)  # End after notification\n",
    "\n",
    "# Compile the graph\n",
    "compiled_graph = email_graph.compile()"
   ]
  },
  {
   "cell_type": "markdown",
   "metadata": {},
   "source": [
    "Visualise the flow"
   ]
  },
  {
   "cell_type": "code",
   "execution_count": 91,
   "metadata": {},
   "outputs": [
    {
     "data": {
      "image/png": "[encoded data removed]",
      "text/plain": [
       "<IPython.core.display.Image object>"
      ]
     },
     "execution_count": 91,
     "metadata": {},
     "output_type": "execute_result"
    }
   ],
   "source": [
    "# Visualize the graph\n",
    "Image(compiled_graph.get_graph().draw_mermaid_png(draw_method=MermaidDrawMethod.API))"
   ]
  },
  {
   "cell_type": "markdown",
   "metadata": {},
   "source": [
    "## testing the system"
   ]
  },
  {
   "cell_type": "code",
   "execution_count": 92,
   "metadata": {},
   "outputs": [],
   "source": [
    "# Example legitimate email\n",
    "legitimate_email = {\n",
    "    \"sender\": \"john.smith@example.com\",\n",
    "    \"subject\": \"Question about your services\",\n",
    "    \"body\": \"Dear Mr. Valentino, I was referred to you by a colleague and I'm interested in learning more about your consulting services. Could we schedule a call next week? Best regards, John Smith\"\n",
    "}\n",
    "\n",
    "# Example spam email\n",
    "spam_email = {\n",
    "    \"sender\": \"winner@lottery-intl.com\",\n",
    "    \"subject\": \"YOU HAVE WON $5,000,000!!!\",\n",
    "    \"body\": \"CONGRATULATIONS! You have been selected as the winner of our international lottery! To claim your $5,000,000 prize, please send us your bank details and a processing fee of $100.\"\n",
    "}"
   ]
  },
  {
   "cell_type": "code",
   "execution_count": 93,
   "metadata": {},
   "outputs": [
    {
     "name": "stdout",
     "output_type": "stream",
     "text": [
      "\n",
      "Processing legitimate email...\n",
      "Mailbot is processing an email from john.smith@example.com with subject: Question about your services\n",
      "\n",
      "==================================================\n",
      "Hi boss, you've received an email from john.smith@example.com.\n",
      "Subject: Question about your services\n",
      "Category: Relational\n",
      "\n",
      "I've prepared a draft response for your review:\n",
      "--------------------------------------------------\n",
      "Dear John,\n",
      "\n",
      "Thank you for reaching out and expressing interest in our services. I appreciate the referral from your colleague. I'd be more than happy to discuss our consulting services further. I'm available next week to schedule a call. Please let me know a few dates and times that work for you, and I'll arrange a call accordingly.\n",
      "\n",
      "Best regards,\n",
      "Valentino\n",
      "==================================================\n",
      "\n"
     ]
    }
   ],
   "source": [
    "\n",
    "# Process the legitimate email\n",
    "print(\"\\nProcessing legitimate email...\")\n",
    "legitimate_result = compiled_graph.invoke(\n",
    "    {\n",
    "        \"email\": legitimate_email, # invoke the graph with the email\n",
    "        \"verbose\": True,  # enable verbose output\n",
    "    }\n",
    ")"
   ]
  },
  {
   "cell_type": "code",
   "execution_count": 94,
   "metadata": {},
   "outputs": [
    {
     "data": {
      "text/plain": [
       "{'email': {'sender': 'john.smith@example.com',\n",
       "  'subject': 'Question about your services',\n",
       "  'body': \"Dear Mr. Valentino, I was referred to you by a colleague and I'm interested in learning more about your consulting services. Could we schedule a call next week? Best regards, John Smith\"},\n",
       " 'email_category': 'Relational',\n",
       " 'spam_reason': 'The email is from a known contact, includes a personalized greeting, and the content is relevant to business consulting services. It does not contain any malicious links, requests for sensitive information, or suspicious language.',\n",
       " 'is_spam': False,\n",
       " 'draft': \"Dear John,\\n\\nThank you for reaching out and expressing interest in our services. I appreciate the referral from your colleague. I'd be more than happy to discuss our consulting services further. I'm available next week to schedule a call. Please let me know a few dates and times that work for you, and I'll arrange a call accordingly.\\n\\nBest regards,\\nValentino\",\n",
       " 'verbose': True}"
      ]
     },
     "execution_count": 94,
     "metadata": {},
     "output_type": "execute_result"
    }
   ],
   "source": [
    "legitimate_result"
   ]
  },
  {
   "cell_type": "markdown",
   "metadata": {},
   "source": [
    "## test process spam email\n"
   ]
  },
  {
   "cell_type": "code",
   "execution_count": 95,
   "metadata": {},
   "outputs": [
    {
     "name": "stdout",
     "output_type": "stream",
     "text": [
      "\n",
      "Processing legitimate email...\n",
      "Mailbot is processing an email from winner@lottery-intl.com with subject: YOU HAVE WON $5,000,000!!!\n",
      "Mailbot has identified the email as spam. Reason: The email promises an unexpected, large sum of money for a small fee. It also requests sensitive personal information (bank details) from the recipient, which is a common tactic used in scams.\n",
      "The email has been moved to the spam folder.\n"
     ]
    }
   ],
   "source": [
    "\n",
    "# Process the legitimate email\n",
    "print(\"\\nProcessing legitimate email...\")\n",
    "illegitimate_result = compiled_graph.invoke(\n",
    "    {\n",
    "        \"email\": spam_email, # invoke the graph with the email\n",
    "        \"verbose\": True,  # enable verbose output\n",
    "    }\n",
    ")"
   ]
  },
  {
   "cell_type": "code",
   "execution_count": 96,
   "metadata": {},
   "outputs": [
    {
     "data": {
      "text/plain": [
       "{'email': {'sender': 'winner@lottery-intl.com',\n",
       "  'subject': 'YOU HAVE WON $5,000,000!!!',\n",
       "  'body': 'CONGRATULATIONS! You have been selected as the winner of our international lottery! To claim your $5,000,000 prize, please send us your bank details and a processing fee of $100.'},\n",
       " 'email_category': 'Marketing',\n",
       " 'spam_reason': 'The email promises an unexpected, large sum of money for a small fee. It also requests sensitive personal information (bank details) from the recipient, which is a common tactic used in scams.',\n",
       " 'is_spam': True,\n",
       " 'verbose': True}"
      ]
     },
     "execution_count": 96,
     "metadata": {},
     "output_type": "execute_result"
    }
   ],
   "source": [
    "illegitimate_result"
   ]
  },
  {
   "cell_type": "code",
   "execution_count": 97,
   "metadata": {},
   "outputs": [],
   "source": [
    "legitimate_emails = [\n",
    "    {\n",
    "        \"sender\": \"sarah.johnson@acme-corp.com\",\n",
    "        \"subject\": \"Meeting agenda for Thursday\",\n",
    "        \"body\": \"Hi team, Attached is the agenda for our quarterly review meeting on Thursday at 2 PM. Please review the attached documents before we meet. Let me know if you have any questions. Best, Sarah\",\n",
    "        \"is_spam\": False,\n",
    "        \"category\": \"Administrative\"\n",
    "    },\n",
    "    {\n",
    "        \"sender\": \"tech-support@cloudservices.net\",\n",
    "        \"subject\": \"Your support ticket #45928 has been resolved\",\n",
    "        \"body\": \"Dear valued customer, We're pleased to inform you that your recent support ticket regarding login issues has been resolved. If you continue to experience problems, please reply to this email with ticket #45928 in the subject line. Thank you for your patience. - Cloud Services Support Team\",\n",
    "        \"is_spam\": False,\n",
    "        \"category\": \"Transactional\"\n",
    "    },\n",
    "    {\n",
    "        \"sender\": \"notifications@linkedin.com\",\n",
    "        \"subject\": \"Michael Chen has endorsed you for Project Management\",\n",
    "        \"body\": \"Hi Alex, Michael Chen has endorsed you for Project Management on LinkedIn. View your profile to see your endorsements and send a thank you note to Michael.\",\n",
    "        \"is_spam\": False,\n",
    "        \"category\": \"Relational\"\n",
    "    },\n",
    "    {\n",
    "        \"sender\": \"reservation@grandhotel.com\",\n",
    "        \"subject\": \"Confirmation: Your stay on March 5-7, 2025\",\n",
    "        \"body\": \"Dear Ms. Williams, This email confirms your reservation at Grand Hotel for March 5-7, 2025. Check-in: 3 PM, Check-out: 11 AM. Reservation #: GH-789456. We look forward to welcoming you. For changes, please call 555-123-4567. Sincerely, Grand Hotel Reservations\",\n",
    "        \"is_spam\": False,\n",
    "        \"category\": \"Transactional\"\n",
    "    },\n",
    "    {\n",
    "        \"sender\": \"david.wilson@partnercompany.org\",\n",
    "        \"subject\": \"Proposal draft and timeline\",\n",
    "        \"body\": \"Hi Jessica, As discussed in our call yesterday, I've attached the draft proposal and project timeline for your review. Please let me know if you'd like any changes before we present this to the board next week. Regards, David\",\n",
    "        \"is_spam\": False,\n",
    "        \"category\": \"Relational\"\n",
    "    },\n",
    "    {\n",
    "        \"sender\": \"newsletter@industry-insights.com\",\n",
    "        \"subject\": \"March 2025 Newsletter: Industry Trends and Analysis\",\n",
    "        \"body\": \"Industry Insights Newsletter - March 2025 | Featured Article: The Impact of AI on Manufacturing | Upcoming Webinar: Supply Chain Optimization Strategies | Market Analysis: Q1 Reports | To unsubscribe, click here\",\n",
    "        \"is_spam\": False,\n",
    "        \"category\": \"Marketing\"\n",
    "    },\n",
    "    {\n",
    "        \"sender\": \"laura.santos@freelance-writer.me\",\n",
    "        \"subject\": \"Invoice #113 for content writing services\",\n",
    "        \"body\": \"Dear Mr. Reynolds, Please find attached invoice #113 for the content writing services provided in February 2025. Payment terms are net 30 days as per our agreement. Thank you for your business. Best regards, Laura Santos\",\n",
    "        \"is_spam\": False,\n",
    "        \"category\": \"Transactional\"\n",
    "    },\n",
    "    {\n",
    "        \"sender\": \"no-reply@amazon.com\",\n",
    "        \"subject\": \"Your Amazon order #112-7366425-8795621 has shipped\",\n",
    "        \"body\": \"Your package is on its way! Your order of 'Wireless Headphones' has shipped and is expected to arrive on Tuesday, April 2. Track your package: https://amazon.com/track/112-7366425-8795621\",\n",
    "        \"is_spam\": False,\n",
    "        \"category\": \"Transactional\"\n",
    "    },\n",
    "    {\n",
    "        \"sender\": \"alumni@university.edu\",\n",
    "        \"subject\": \"Annual Alumni Fundraising Event - Save the Date\",\n",
    "        \"body\": \"Dear Alumni, We're excited to announce our Annual Fundraising Gala will take place on May 15, 2025, at the University Grand Hall. This year's theme is 'Building Tomorrow's Leaders'. Early bird tickets available until April 10. More details to follow. University Alumni Association\",\n",
    "        \"is_spam\": False,\n",
    "        \"category\": \"Marketing\"\n",
    "    },\n",
    "    {\n",
    "        \"sender\": \"hr@currentemployer.com\",\n",
    "        \"subject\": \"Important: Benefits enrollment period ending soon\",\n",
    "        \"body\": \"Reminder: The annual benefits enrollment period ends on April 10, 2025. Please log in to the HR portal to review and confirm your selections for the upcoming fiscal year. If no changes are made, your current selections will roll over. Human Resources Department\",\n",
    "        \"is_spam\": False,\n",
    "        \"category\": \"Administrative\"\n",
    "    }\n",
    "]\n",
    "\n",
    "spam_emails = [\n",
    "    {\n",
    "        \"sender\": \"security-alert@bankofamerica-secure.info\",\n",
    "        \"subject\": \"Urgent: Your account has been limited\",\n",
    "        \"body\": \"Dear valued customer, We have detected suspicious activity on your account. Your access has been limited for security reasons. Please verify your identity by clicking this link immediately: http://secure-bankofamerica.info/verify\",\n",
    "        \"is_spam\": True,\n",
    "        \"category\": \"Spam\"\n",
    "    },\n",
    "    {\n",
    "        \"sender\": \"employment@career-opportunity.net\",\n",
    "        \"subject\": \"Make $5000/week working from home!\",\n",
    "        \"body\": \"AMAZING OPPORTUNITY! We're looking for serious people who want to earn $5000+ per week working just 2 hours per day from home! No experience needed! Limited positions available! Reply NOW with your name and phone number to secure your spot!\",\n",
    "        \"is_spam\": True,\n",
    "        \"category\": \"Spam\"\n",
    "    },\n",
    "    {\n",
    "        \"sender\": \"prince.nelson@royalfamily-intl.org\",\n",
    "        \"subject\": \"Confidential Business Proposal\",\n",
    "        \"body\": \"Dear Friend, I am Prince Nelson from the Royal Family of Wakanda. I need to transfer $25,000,000 out of my country and require your assistance. In return, you will receive 30% of the funds. Please reply with your bank details to proceed with this transaction. Regards, Prince Nelson\",\n",
    "        \"is_spam\": True,\n",
    "        \"category\": \"Spam\"\n",
    "    },\n",
    "    {\n",
    "        \"sender\": \"billing@netflix-accounts.com\",\n",
    "        \"subject\": \"Netflix Payment Failed - Update Information\",\n",
    "        \"body\": \"Dear Customer, Your Netflix payment method has expired. To avoid service interruption, please update your payment information immediately: http://netflix-account-verify.com/login\",\n",
    "        \"is_spam\": True,\n",
    "        \"category\": \"Spam\"\n",
    "    },\n",
    "    {\n",
    "        \"sender\": \"pharmacy-discounts@medstore24.biz\",\n",
    "        \"subject\": \"70% OFF Premium Medications - No Prescription Needed!\",\n",
    "        \"body\": \"HUGE PHARMACEUTICAL SALE! Get premium medications at 70% OFF regular prices! No prescription required! Overnight shipping available! Viagra, Cialis, Weight Loss Pills, Pain Relief, and more! Order now at www.medstore24.biz\",\n",
    "        \"is_spam\": True,\n",
    "        \"category\": \"Spam\"\n",
    "    },\n",
    "    {\n",
    "        \"sender\": \"customer-service@apple.id-verify.com\",\n",
    "        \"subject\": \"Your Apple ID was used to sign in on a new device\",\n",
    "        \"body\": \"Dear Customer, Your Apple ID was recently used to sign in on an unknown device in Kyiv, Ukraine. If this wasn't you, your account may be compromised. Secure your account now: https://apple-id-verification.com/secure\",\n",
    "        \"is_spam\": True,\n",
    "        \"category\": \"Spam\"\n",
    "    },\n",
    "    {\n",
    "        \"sender\": \"irs.refunds@tax-return-service.org\",\n",
    "        \"subject\": \"IRS: You have a tax refund pending\",\n",
    "        \"body\": \"ATTENTION: The Internal Revenue Service has calculated your tax return and determined you are eligible for an additional refund of $1,427.89. To claim your refund, click here to verify your identity and provide your direct deposit information: https://irs-tax-refunds.org/claim\",\n",
    "        \"is_spam\": True,\n",
    "        \"category\": \"Spam\"\n",
    "    },\n",
    "    {\n",
    "        \"sender\": \"james.wilson@businessproposal.co\",\n",
    "        \"subject\": \"Re: Our discussion last week\",\n",
    "        \"body\": \"Hello, Following up on our discussion last week regarding the investment opportunity. As I mentioned, this is a limited-time offer with 300% guaranteed returns within 3 months. Minimum investment is only $1000. Let me know if you're ready to proceed. James Wilson, Investment Specialist\",\n",
    "        \"is_spam\": True,\n",
    "        \"category\": \"Spam\"\n",
    "    },\n",
    "    {\n",
    "        \"sender\": \"track-delivery@fedex-shipping.info\",\n",
    "        \"subject\": \"FedEx: Your package delivery status\",\n",
    "        \"body\": \"Notification: We attempted to deliver your package today but were unable to due to an incorrect address. To reschedule delivery, please confirm your details here: http://fedex-delivery-reschedule.info/form. Reference: FDX-78542136\",\n",
    "        \"is_spam\": True,\n",
    "        \"category\": \"Spam\"\n",
    "    },\n",
    "    {\n",
    "        \"sender\": \"support@microsoft-security-team.net\",\n",
    "        \"subject\": \"Critical Windows Security Alert - Immediate Action Required\",\n",
    "        \"body\": \"WARNING: Your Windows computer has been infected with dangerous malware that is stealing your personal information. Our security scan detected 13 viruses on your system. Download and run our free security tool immediately to remove these threats: www.microsoft-security-scan.net/download\",\n",
    "        \"is_spam\": True,\n",
    "        \"category\": \"Spam\"\n",
    "    }\n",
    "]"
   ]
  },
  {
   "cell_type": "markdown",
   "metadata": {},
   "source": [
    "## evaluating the model"
   ]
  },
  {
   "cell_type": "code",
   "execution_count": 98,
   "metadata": {},
   "outputs": [
    {
     "name": "stderr",
     "output_type": "stream",
     "text": [
      "100%|██████████| 20/20 [01:03<00:00,  3.19s/it]\n"
     ]
    }
   ],
   "source": [
    "def evaluate_email_classifications(ground_truth, predictions):\n",
    "    \"\"\"\n",
    "    Evaluate email classification performance.\n",
    "    \n",
    "    Parameters:\n",
    "    - ground_truth: List of email dictionaries with true labels\n",
    "    - predictions: List of state dictionaries with model predictions\n",
    "    \n",
    "    Returns:\n",
    "    - Dictionary containing evaluation metrics\n",
    "    \"\"\"\n",
    "    # Extract true values and predictions\n",
    "    true_spam = [email[\"is_spam\"] for email in ground_truth]\n",
    "    pred_spam = [pred[\"is_spam\"] for pred in predictions]\n",
    "    \n",
    "    # Calculate spam detection metrics\n",
    "    spam_f1 = f1_score(true_spam, pred_spam)\n",
    "    return spam_f1\n",
    "\n",
    "\n",
    "# Combine legitimate and spam emails\n",
    "ground_truth = legitimate_emails + spam_emails\n",
    "\n",
    "predictions = []\n",
    "for email in tqdm(ground_truth):\n",
    "\n",
    "    response = compiled_graph.invoke({\"email\": email, \"verbose\": False})\n",
    "    predictions.append({\"is_spam\": response[\"is_spam\"]})\n",
    "\n",
    "# Evaluate\n",
    "results = evaluate_email_classifications(ground_truth, predictions)"
   ]
  },
  {
   "cell_type": "code",
   "execution_count": 99,
   "metadata": {},
   "outputs": [
    {
     "name": "stdout",
     "output_type": "stream",
     "text": [
      "F1 Score for spam detection: 1.00 with model 'watsonx/ibm/granite-3-8b-instruct'\n"
     ]
    }
   ],
   "source": [
    "print(f\"F1 Score for spam detection: {results:.2f} with model '{model.model_id}'\")"
   ]
  },
  {
   "cell_type": "markdown",
   "metadata": {},
   "source": [
    "firstly i tried with temerature of 0,2 and model watsonx/ibm/granite-3-8b-instruct gave 0,89 F1 Score, beating the baseline of 0,82 by a small amount. \n",
    "\n",
    "After that i played around with different hyperparameters and system promt engineering leading to:\n",
    "\n",
    "changed the system prompt a bit to include more description of scams as well as given it all the categories.\n",
    "\n",
    "after that with the  model ibm/granite-3-8b-instruct i adjusted hyperparameters as so and got a F1 Score of 1.00:\n",
    "\n",
    "toned down the \"temperature\" to 0,0 lowerd \"max_tokens\" to 50, and added a lower top_p of 0,45 as this causes the model to  almost always pick highest‑prob tokens (“safe” but bland).\n",
    "\n",
    "it seems there is a lot of possible optimizing in the \"system prompt\" as well as temperature for more bland tasks, top_p also proved to increase my score a bit.\n",
    "\n",
    "a score of 1.00 shows that all spam emails were identified, which is a very good. showing how a LLM can be used for a multitude of tasks"
   ]
  },
  {
   "cell_type": "markdown",
   "metadata": {},
   "source": [
    "## Tool agent: Part 2 agent assignment"
   ]
  },
  {
   "cell_type": "markdown",
   "metadata": {},
   "source": [
    "Libaries"
   ]
  },
  {
   "cell_type": "code",
   "execution_count": 6,
   "metadata": {},
   "outputs": [],
   "source": [
    "# langgraph/langchain libraries\n",
    "from langgraph.prebuilt import create_react_agent\n",
    "from langchain_ibm import ChatWatsonx\n",
    "from langchain_ibm import WatsonxEmbeddings\n",
    "from langchain_chroma import Chroma\n",
    "from langchain_core.tools import tool\n",
    "from langchain.tools.retriever import create_retriever_tool\n",
    "from langchain_community.tools import DuckDuckGoSearchResults\n",
    "from langchain import hub\n",
    "\n",
    "# misc libraries\n",
    "import requests\n",
    "from decouple import config"
   ]
  },
  {
   "cell_type": "markdown",
   "metadata": {},
   "source": [
    "initiate the \"ChatWatsonx\" class from langchain libary"
   ]
  },
  {
   "cell_type": "code",
   "execution_count": 7,
   "metadata": {},
   "outputs": [],
   "source": [
    "chat_model = ChatWatsonx(\n",
    "    url=WX_API_URL,\n",
    "    apikey=WX_API_KEY,\n",
    "    project_id=WX_PROJECT_ID,\n",
    "    model_id=\"mistralai/mistral-large\",#highest rated RAG model on Watsonx\n",
    ")"
   ]
  },
  {
   "cell_type": "markdown",
   "metadata": {},
   "source": [
    "define the tools for the agent\n"
   ]
  },
  {
   "cell_type": "code",
   "execution_count": 8,
   "metadata": {},
   "outputs": [],
   "source": [
    "@tool\n",
    "def add(a: float, b: float) -> float:\n",
    "    \"\"\"Add a and b.\"\"\"\n",
    "    return a + b\n",
    "\n",
    "@tool\n",
    "def subtract(a: float, b: float) -> float:\n",
    "    \"\"\"Subtract a and b.\"\"\"\n",
    "    return a - b\n",
    "\n",
    "@tool\n",
    "def multiply(a: float, b: float) -> float:\n",
    "    \"\"\"Multiply a and b.\"\"\"\n",
    "    return a * b\n",
    "\n",
    "@tool\n",
    "def divide(a: float, b: float) -> float:\n",
    "    \"\"\"Divide a and b.\"\"\"\n",
    "    return a / b\n",
    "\n",
    "# and to make it a little more interesting, let's add a currency converter\n",
    "@tool\n",
    "def get_exchange_rate(\n",
    "    currency_from: str = \"USD\",\n",
    "    currency_to: str = \"EUR\",\n",
    "    currency_date: str = \"latest\",\n",
    "):\n",
    "    \"\"\"Retrieves the exchange rate between two currencies on a specified date.\n",
    "\n",
    "    Uses the Frankfurter API (https://api.frankfurter.app/) to obtain\n",
    "    exchange rate data.\n",
    "\n",
    "    Args:\n",
    "        currency_from: The base currency (3-letter currency code).\n",
    "            Defaults to \"USD\" (US Dollar).\n",
    "        currency_to: The target currency (3-letter currency code).\n",
    "            Defaults to \"EUR\" (Euro).\n",
    "        currency_date: The date for which to retrieve the exchange rate.\n",
    "            Defaults to \"latest\" for the most recent exchange rate data.\n",
    "            Can be specified in YYYY-MM-DD format for historical rates.\n",
    "\n",
    "    Returns:\n",
    "        dict: A dictionary containing the exchange rate information.\n",
    "            Example: {\"amount\": 1.0, \"base\": \"USD\", \"date\": \"2023-11-24\",\n",
    "                \"rates\": {\"EUR\": 0.95534}}\n",
    "    \"\"\"\n",
    "    response = requests.get(\n",
    "        f\"https://api.frankfurter.app/{currency_date}\",\n",
    "        params={\"from\": currency_from, \"to\": currency_to},\n",
    "    )\n",
    "    return response.json()\n",
    "\n",
    "\n",
    "tools = [add, subtract, multiply, divide, get_exchange_rate]"
   ]
  },
  {
   "cell_type": "markdown",
   "metadata": {},
   "source": [
    "See list of tools"
   ]
  },
  {
   "cell_type": "code",
   "execution_count": 103,
   "metadata": {},
   "outputs": [
    {
     "data": {
      "text/plain": [
       "[StructuredTool(name='add', description='Add a and b.', args_schema=<class 'langchain_core.utils.pydantic.add'>, func=<function add at 0x000002D39FF84B80>),\n",
       " StructuredTool(name='subtract', description='Subtract a and b.', args_schema=<class 'langchain_core.utils.pydantic.subtract'>, func=<function subtract at 0x000002D39FF85300>),\n",
       " StructuredTool(name='multiply', description='Multiply a and b.', args_schema=<class 'langchain_core.utils.pydantic.multiply'>, func=<function multiply at 0x000002D39FF853A0>),\n",
       " StructuredTool(name='divide', description='Divide a and b.', args_schema=<class 'langchain_core.utils.pydantic.divide'>, func=<function divide at 0x000002D39F233380>),\n",
       " StructuredTool(name='get_exchange_rate', description='Retrieves the exchange rate between two currencies on a specified date.\\n\\n    Uses the Frankfurter API (https://api.frankfurter.app/) to obtain\\n    exchange rate data.\\n\\n    Args:\\n        currency_from: The base currency (3-letter currency code).\\n            Defaults to \"USD\" (US Dollar).\\n        currency_to: The target currency (3-letter currency code).\\n            Defaults to \"EUR\" (Euro).\\n        currency_date: The date for which to retrieve the exchange rate.\\n            Defaults to \"latest\" for the most recent exchange rate data.\\n            Can be specified in YYYY-MM-DD format for historical rates.\\n\\n    Returns:\\n        dict: A dictionary containing the exchange rate information.\\n            Example: {\"amount\": 1.0, \"base\": \"USD\", \"date\": \"2023-11-24\",\\n                \"rates\": {\"EUR\": 0.95534}}', args_schema=<class 'langchain_core.utils.pydantic.get_exchange_rate'>, func=<function get_exchange_rate at 0x000002D39F233880>)]"
      ]
     },
     "execution_count": 103,
     "metadata": {},
     "output_type": "execute_result"
    }
   ],
   "source": [
    "tools"
   ]
  },
  {
   "cell_type": "markdown",
   "metadata": {},
   "source": [
    "Visualise the agent"
   ]
  },
  {
   "cell_type": "code",
   "execution_count": 114,
   "metadata": {},
   "outputs": [
    {
     "data": {
      "image/png": "[encoded data removed]",
      "text/plain": [
       "<langgraph.graph.state.CompiledStateGraph object at 0x000002D39FBDEE10>"
      ]
     },
     "execution_count": 114,
     "metadata": {},
     "output_type": "execute_result"
    }
   ],
   "source": [
    "graph = create_react_agent(chat_model, tools=tools, debug=True)\n",
    "\n",
    "graph"
   ]
  },
  {
   "cell_type": "markdown",
   "metadata": {},
   "source": [
    "Testing the agent"
   ]
  },
  {
   "cell_type": "code",
   "execution_count": 115,
   "metadata": {},
   "outputs": [
    {
     "name": "stdout",
     "output_type": "stream",
     "text": [
      "\u001b[36;1m\u001b[1;3m[-1:checkpoint]\u001b[0m \u001b[1mState at the end of step -1:\n",
      "\u001b[0m{'messages': []}\n",
      "\u001b[36;1m\u001b[1;3m[0:tasks]\u001b[0m \u001b[1mStarting 1 task for step 0:\n",
      "\u001b[0m- \u001b[32;1m\u001b[1;3m__start__\u001b[0m -> {'messages': [('user',\n",
      "               'I have 833 USD and my sister has 38 USD. How much do we have '\n",
      "               'total in euros?')]}\n",
      "\u001b[36;1m\u001b[1;3m[0:writes]\u001b[0m \u001b[1mFinished step 0 with writes to 1 channel:\n",
      "\u001b[0m- \u001b[33;1m\u001b[1;3mmessages\u001b[0m -> [('user',\n",
      "  'I have 833 USD and my sister has 38 USD. How much do we have total in '\n",
      "  'euros?')]\n",
      "\u001b[36;1m\u001b[1;3m[0:checkpoint]\u001b[0m \u001b[1mState at the end of step 0:\n",
      "\u001b[0m{'messages': [HumanMessage(content='I have 833 USD and my sister has 38 USD. How much do we have total in euros?', additional_kwargs={}, response_metadata={}, id='93aba02d-4e1d-4fc4-8e5b-4ff718c41215')]}\n",
      "\u001b[36;1m\u001b[1;3m[1:tasks]\u001b[0m \u001b[1mStarting 1 task for step 1:\n",
      "\u001b[0m- \u001b[32;1m\u001b[1;3magent\u001b[0m -> {'is_last_step': False,\n",
      " 'messages': [HumanMessage(content='I have 833 USD and my sister has 38 USD. How much do we have total in euros?', additional_kwargs={}, response_metadata={}, id='93aba02d-4e1d-4fc4-8e5b-4ff718c41215')],\n",
      " 'remaining_steps': 24}\n",
      "\u001b[36;1m\u001b[1;3m[1:writes]\u001b[0m \u001b[1mFinished step 1 with writes to 1 channel:\n",
      "\u001b[0m- \u001b[33;1m\u001b[1;3mmessages\u001b[0m -> [AIMessage(content='', additional_kwargs={'tool_calls': [{'id': '091gqrBZU', 'type': 'function', 'function': {'name': 'add', 'arguments': '{\"a\": 833, \"b\": 38}'}}, {'id': 'BfnE6mGYA', 'type': 'function', 'function': {'name': 'get_exchange_rate', 'arguments': '{\"currency_from\": \"USD\", \"currency_to\": \"EUR\"}'}}]}, response_metadata={'token_usage': {'completion_tokens': 61, 'prompt_tokens': 627, 'total_tokens': 688}, 'model_name': 'mistralai/mistral-large', 'system_fingerprint': '', 'finish_reason': 'tool_calls'}, id='chatcmpl-dd1c35b592db0f1cafd6b266d68515f2', tool_calls=[{'name': 'add', 'args': {'a': 833, 'b': 38}, 'id': '091gqrBZU', 'type': 'tool_call'}, {'name': 'get_exchange_rate', 'args': {'currency_from': 'USD', 'currency_to': 'EUR'}, 'id': 'BfnE6mGYA', 'type': 'tool_call'}], usage_metadata={'input_tokens': 627, 'output_tokens': 61, 'total_tokens': 688})]\n",
      "\u001b[36;1m\u001b[1;3m[1:checkpoint]\u001b[0m \u001b[1mState at the end of step 1:\n",
      "\u001b[0m{'messages': [HumanMessage(content='I have 833 USD and my sister has 38 USD. How much do we have total in euros?', additional_kwargs={}, response_metadata={}, id='93aba02d-4e1d-4fc4-8e5b-4ff718c41215'),\n",
      "              AIMessage(content='', additional_kwargs={'tool_calls': [{'id': '091gqrBZU', 'type': 'function', 'function': {'name': 'add', 'arguments': '{\"a\": 833, \"b\": 38}'}}, {'id': 'BfnE6mGYA', 'type': 'function', 'function': {'name': 'get_exchange_rate', 'arguments': '{\"currency_from\": \"USD\", \"currency_to\": \"EUR\"}'}}]}, response_metadata={'token_usage': {'completion_tokens': 61, 'prompt_tokens': 627, 'total_tokens': 688}, 'model_name': 'mistralai/mistral-large', 'system_fingerprint': '', 'finish_reason': 'tool_calls'}, id='chatcmpl-dd1c35b592db0f1cafd6b266d68515f2', tool_calls=[{'name': 'add', 'args': {'a': 833, 'b': 38}, 'id': '091gqrBZU', 'type': 'tool_call'}, {'name': 'get_exchange_rate', 'args': {'currency_from': 'USD', 'currency_to': 'EUR'}, 'id': 'BfnE6mGYA', 'type': 'tool_call'}], usage_metadata={'input_tokens': 627, 'output_tokens': 61, 'total_tokens': 688})]}\n",
      "\u001b[36;1m\u001b[1;3m[2:tasks]\u001b[0m \u001b[1mStarting 1 task for step 2:\n",
      "\u001b[0m- \u001b[32;1m\u001b[1;3mtools\u001b[0m -> {'is_last_step': False,\n",
      " 'messages': [HumanMessage(content='I have 833 USD and my sister has 38 USD. How much do we have total in euros?', additional_kwargs={}, response_metadata={}, id='93aba02d-4e1d-4fc4-8e5b-4ff718c41215'),\n",
      "              AIMessage(content='', additional_kwargs={'tool_calls': [{'id': '091gqrBZU', 'type': 'function', 'function': {'name': 'add', 'arguments': '{\"a\": 833, \"b\": 38}'}}, {'id': 'BfnE6mGYA', 'type': 'function', 'function': {'name': 'get_exchange_rate', 'arguments': '{\"currency_from\": \"USD\", \"currency_to\": \"EUR\"}'}}]}, response_metadata={'token_usage': {'completion_tokens': 61, 'prompt_tokens': 627, 'total_tokens': 688}, 'model_name': 'mistralai/mistral-large', 'system_fingerprint': '', 'finish_reason': 'tool_calls'}, id='chatcmpl-dd1c35b592db0f1cafd6b266d68515f2', tool_calls=[{'name': 'add', 'args': {'a': 833, 'b': 38}, 'id': '091gqrBZU', 'type': 'tool_call'}, {'name': 'get_exchange_rate', 'args': {'currency_from': 'USD', 'currency_to': 'EUR'}, 'id': 'BfnE6mGYA', 'type': 'tool_call'}], usage_metadata={'input_tokens': 627, 'output_tokens': 61, 'total_tokens': 688})],\n",
      " 'remaining_steps': 23}\n",
      "\u001b[36;1m\u001b[1;3m[2:writes]\u001b[0m \u001b[1mFinished step 2 with writes to 1 channel:\n",
      "\u001b[0m- \u001b[33;1m\u001b[1;3mmessages\u001b[0m -> [ToolMessage(content='871.0', name='add', tool_call_id='091gqrBZU'),\n",
      " ToolMessage(content='{\"amount\": 1.0, \"base\": \"USD\", \"date\": \"2025-04-17\", \"rates\": {\"EUR\": 0.88028}}', name='get_exchange_rate', tool_call_id='BfnE6mGYA')]\n",
      "\u001b[36;1m\u001b[1;3m[2:checkpoint]\u001b[0m \u001b[1mState at the end of step 2:\n",
      "\u001b[0m{'messages': [HumanMessage(content='I have 833 USD and my sister has 38 USD. How much do we have total in euros?', additional_kwargs={}, response_metadata={}, id='93aba02d-4e1d-4fc4-8e5b-4ff718c41215'),\n",
      "              AIMessage(content='', additional_kwargs={'tool_calls': [{'id': '091gqrBZU', 'type': 'function', 'function': {'name': 'add', 'arguments': '{\"a\": 833, \"b\": 38}'}}, {'id': 'BfnE6mGYA', 'type': 'function', 'function': {'name': 'get_exchange_rate', 'arguments': '{\"currency_from\": \"USD\", \"currency_to\": \"EUR\"}'}}]}, response_metadata={'token_usage': {'completion_tokens': 61, 'prompt_tokens': 627, 'total_tokens': 688}, 'model_name': 'mistralai/mistral-large', 'system_fingerprint': '', 'finish_reason': 'tool_calls'}, id='chatcmpl-dd1c35b592db0f1cafd6b266d68515f2', tool_calls=[{'name': 'add', 'args': {'a': 833, 'b': 38}, 'id': '091gqrBZU', 'type': 'tool_call'}, {'name': 'get_exchange_rate', 'args': {'currency_from': 'USD', 'currency_to': 'EUR'}, 'id': 'BfnE6mGYA', 'type': 'tool_call'}], usage_metadata={'input_tokens': 627, 'output_tokens': 61, 'total_tokens': 688}),\n",
      "              ToolMessage(content='871.0', name='add', id='dc6b1c1f-ed9e-4a4c-8d88-3e03822f8cbf', tool_call_id='091gqrBZU'),\n",
      "              ToolMessage(content='{\"amount\": 1.0, \"base\": \"USD\", \"date\": \"2025-04-17\", \"rates\": {\"EUR\": 0.88028}}', name='get_exchange_rate', id='dc71af9b-60c9-440a-a326-92e3295d885b', tool_call_id='BfnE6mGYA')]}\n",
      "\u001b[36;1m\u001b[1;3m[3:tasks]\u001b[0m \u001b[1mStarting 1 task for step 3:\n",
      "\u001b[0m- \u001b[32;1m\u001b[1;3magent\u001b[0m -> {'is_last_step': False,\n",
      " 'messages': [HumanMessage(content='I have 833 USD and my sister has 38 USD. How much do we have total in euros?', additional_kwargs={}, response_metadata={}, id='93aba02d-4e1d-4fc4-8e5b-4ff718c41215'),\n",
      "              AIMessage(content='', additional_kwargs={'tool_calls': [{'id': '091gqrBZU', 'type': 'function', 'function': {'name': 'add', 'arguments': '{\"a\": 833, \"b\": 38}'}}, {'id': 'BfnE6mGYA', 'type': 'function', 'function': {'name': 'get_exchange_rate', 'arguments': '{\"currency_from\": \"USD\", \"currency_to\": \"EUR\"}'}}]}, response_metadata={'token_usage': {'completion_tokens': 61, 'prompt_tokens': 627, 'total_tokens': 688}, 'model_name': 'mistralai/mistral-large', 'system_fingerprint': '', 'finish_reason': 'tool_calls'}, id='chatcmpl-dd1c35b592db0f1cafd6b266d68515f2', tool_calls=[{'name': 'add', 'args': {'a': 833, 'b': 38}, 'id': '091gqrBZU', 'type': 'tool_call'}, {'name': 'get_exchange_rate', 'args': {'currency_from': 'USD', 'currency_to': 'EUR'}, 'id': 'BfnE6mGYA', 'type': 'tool_call'}], usage_metadata={'input_tokens': 627, 'output_tokens': 61, 'total_tokens': 688}),\n",
      "              ToolMessage(content='871.0', name='add', id='dc6b1c1f-ed9e-4a4c-8d88-3e03822f8cbf', tool_call_id='091gqrBZU'),\n",
      "              ToolMessage(content='{\"amount\": 1.0, \"base\": \"USD\", \"date\": \"2025-04-17\", \"rates\": {\"EUR\": 0.88028}}', name='get_exchange_rate', id='dc71af9b-60c9-440a-a326-92e3295d885b', tool_call_id='BfnE6mGYA')],\n",
      " 'remaining_steps': 22}\n",
      "\u001b[36;1m\u001b[1;3m[3:writes]\u001b[0m \u001b[1mFinished step 3 with writes to 1 channel:\n",
      "\u001b[0m- \u001b[33;1m\u001b[1;3mmessages\u001b[0m -> [AIMessage(content=' The exchange rate from USD to EUR is approximately **0.88028** on 2025-04-17.\\n\\nSo if you exchange **871 USD**, you would get approximately **767.16 EUR**.', additional_kwargs={}, response_metadata={'token_usage': {'completion_tokens': 59, 'prompt_tokens': 809, 'total_tokens': 868}, 'model_name': 'mistralai/mistral-large', 'system_fingerprint': '', 'finish_reason': 'stop'}, id='chatcmpl-37eb61e0462354073d1cd15414976fa1', usage_metadata={'input_tokens': 809, 'output_tokens': 59, 'total_tokens': 868})]\n",
      "\u001b[36;1m\u001b[1;3m[3:checkpoint]\u001b[0m \u001b[1mState at the end of step 3:\n",
      "\u001b[0m{'messages': [HumanMessage(content='I have 833 USD and my sister has 38 USD. How much do we have total in euros?', additional_kwargs={}, response_metadata={}, id='93aba02d-4e1d-4fc4-8e5b-4ff718c41215'),\n",
      "              AIMessage(content='', additional_kwargs={'tool_calls': [{'id': '091gqrBZU', 'type': 'function', 'function': {'name': 'add', 'arguments': '{\"a\": 833, \"b\": 38}'}}, {'id': 'BfnE6mGYA', 'type': 'function', 'function': {'name': 'get_exchange_rate', 'arguments': '{\"currency_from\": \"USD\", \"currency_to\": \"EUR\"}'}}]}, response_metadata={'token_usage': {'completion_tokens': 61, 'prompt_tokens': 627, 'total_tokens': 688}, 'model_name': 'mistralai/mistral-large', 'system_fingerprint': '', 'finish_reason': 'tool_calls'}, id='chatcmpl-dd1c35b592db0f1cafd6b266d68515f2', tool_calls=[{'name': 'add', 'args': {'a': 833, 'b': 38}, 'id': '091gqrBZU', 'type': 'tool_call'}, {'name': 'get_exchange_rate', 'args': {'currency_from': 'USD', 'currency_to': 'EUR'}, 'id': 'BfnE6mGYA', 'type': 'tool_call'}], usage_metadata={'input_tokens': 627, 'output_tokens': 61, 'total_tokens': 688}),\n",
      "              ToolMessage(content='871.0', name='add', id='dc6b1c1f-ed9e-4a4c-8d88-3e03822f8cbf', tool_call_id='091gqrBZU'),\n",
      "              ToolMessage(content='{\"amount\": 1.0, \"base\": \"USD\", \"date\": \"2025-04-17\", \"rates\": {\"EUR\": 0.88028}}', name='get_exchange_rate', id='dc71af9b-60c9-440a-a326-92e3295d885b', tool_call_id='BfnE6mGYA'),\n",
      "              AIMessage(content=' The exchange rate from USD to EUR is approximately **0.88028** on 2025-04-17.\\n\\nSo if you exchange **871 USD**, you would get approximately **767.16 EUR**.', additional_kwargs={}, response_metadata={'token_usage': {'completion_tokens': 59, 'prompt_tokens': 809, 'total_tokens': 868}, 'model_name': 'mistralai/mistral-large', 'system_fingerprint': '', 'finish_reason': 'stop'}, id='chatcmpl-37eb61e0462354073d1cd15414976fa1', usage_metadata={'input_tokens': 809, 'output_tokens': 59, 'total_tokens': 868})]}\n"
     ]
    }
   ],
   "source": [
    "inputs = {\n",
    "    \"messages\": [\n",
    "        (\n",
    "            \"user\", \"I have 833 USD and my sister has 38 USD. How much do we have total in euros?\"\n",
    "        )\n",
    "    ]\n",
    "}\n",
    "\n",
    "# we set the debug flag to True to print tasks and their results\n",
    "response = graph.invoke(inputs, debug=True)"
   ]
  },
  {
   "cell_type": "markdown",
   "metadata": {},
   "source": [
    "check if response is a set of messages"
   ]
  },
  {
   "cell_type": "code",
   "execution_count": 116,
   "metadata": {},
   "outputs": [
    {
     "data": {
      "text/plain": [
       "{'messages': [HumanMessage(content='I have 833 USD and my sister has 38 USD. How much do we have total in euros?', additional_kwargs={}, response_metadata={}, id='93aba02d-4e1d-4fc4-8e5b-4ff718c41215'),\n",
       "  AIMessage(content='', additional_kwargs={'tool_calls': [{'id': '091gqrBZU', 'type': 'function', 'function': {'name': 'add', 'arguments': '{\"a\": 833, \"b\": 38}'}}, {'id': 'BfnE6mGYA', 'type': 'function', 'function': {'name': 'get_exchange_rate', 'arguments': '{\"currency_from\": \"USD\", \"currency_to\": \"EUR\"}'}}]}, response_metadata={'token_usage': {'completion_tokens': 61, 'prompt_tokens': 627, 'total_tokens': 688}, 'model_name': 'mistralai/mistral-large', 'system_fingerprint': '', 'finish_reason': 'tool_calls'}, id='chatcmpl-dd1c35b592db0f1cafd6b266d68515f2', tool_calls=[{'name': 'add', 'args': {'a': 833, 'b': 38}, 'id': '091gqrBZU', 'type': 'tool_call'}, {'name': 'get_exchange_rate', 'args': {'currency_from': 'USD', 'currency_to': 'EUR'}, 'id': 'BfnE6mGYA', 'type': 'tool_call'}], usage_metadata={'input_tokens': 627, 'output_tokens': 61, 'total_tokens': 688}),\n",
       "  ToolMessage(content='871.0', name='add', id='dc6b1c1f-ed9e-4a4c-8d88-3e03822f8cbf', tool_call_id='091gqrBZU'),\n",
       "  ToolMessage(content='{\"amount\": 1.0, \"base\": \"USD\", \"date\": \"2025-04-17\", \"rates\": {\"EUR\": 0.88028}}', name='get_exchange_rate', id='dc71af9b-60c9-440a-a326-92e3295d885b', tool_call_id='BfnE6mGYA'),\n",
       "  AIMessage(content=' The exchange rate from USD to EUR is approximately **0.88028** on 2025-04-17.\\n\\nSo if you exchange **871 USD**, you would get approximately **767.16 EUR**.', additional_kwargs={}, response_metadata={'token_usage': {'completion_tokens': 59, 'prompt_tokens': 809, 'total_tokens': 868}, 'model_name': 'mistralai/mistral-large', 'system_fingerprint': '', 'finish_reason': 'stop'}, id='chatcmpl-37eb61e0462354073d1cd15414976fa1', usage_metadata={'input_tokens': 809, 'output_tokens': 59, 'total_tokens': 868})]}"
      ]
     },
     "execution_count": 116,
     "metadata": {},
     "output_type": "execute_result"
    }
   ],
   "source": [
    "response"
   ]
  },
  {
   "cell_type": "markdown",
   "metadata": {},
   "source": [
    "AllMessage is the final response from the model"
   ]
  },
  {
   "cell_type": "code",
   "execution_count": 117,
   "metadata": {},
   "outputs": [
    {
     "data": {
      "text/plain": [
       "' The exchange rate from USD to EUR is approximately **0.88028** on 2025-04-17.\\n\\nSo if you exchange **871 USD**, you would get approximately **767.16 EUR**.'"
      ]
     },
     "execution_count": 117,
     "metadata": {},
     "output_type": "execute_result"
    }
   ],
   "source": [
    "response[\"messages\"][-1].content"
   ]
  },
  {
   "cell_type": "markdown",
   "metadata": {},
   "source": [
    "## Adding a RAG tool to the agent"
   ]
  },
  {
   "cell_type": "code",
   "execution_count": 9,
   "metadata": {},
   "outputs": [],
   "source": [
    "embed_params = {}\n",
    "\n",
    "watsonx_embedding = WatsonxEmbeddings(\n",
    "    model_id=\"ibm/granite-embedding-278m-multilingual\",\n",
    "    url=WX_API_URL,\n",
    "    project_id=WX_PROJECT_ID,\n",
    "    apikey=WX_API_KEY,\n",
    "    params=embed_params,\n",
    ")"
   ]
  },
  {
   "cell_type": "markdown",
   "metadata": {},
   "source": [
    "initializing the vector database"
   ]
  },
  {
   "cell_type": "code",
   "execution_count": 10,
   "metadata": {},
   "outputs": [
    {
     "data": {
      "text/plain": [
       "{'ids': ['7ba2c445-fb8b-4132-878c-00ad46b8abc4'],\n",
       " 'embeddings': None,\n",
       " 'documents': ['[About MadeUpCompany]: \\nMadeUpCompany is a pioneering technology firm founded in 2010, specializing in cloud computing, data analytics, and machine learning. Headquartered in San Francisco, California, we have a global presence with satellite offices in New York, London, and Tokyo. Our mission is to empower businesses and individuals with cutting-edge technology that enhances efficiency, scalability, and innovation.  \\nWith a diverse team of experts from various industries—including AI research, cybersecurity, and enterprise software development—we push the boundaries of what’s possible. Our commitment to continuous improvement, security, and customer success has earned us recognition as a leader in the tech space.'],\n",
       " 'uris': None,\n",
       " 'data': None,\n",
       " 'metadatas': [{'Header 1': 'About MadeUpCompany'}],\n",
       " 'included': [<IncludeEnum.documents: 'documents'>,\n",
       "  <IncludeEnum.metadatas: 'metadatas'>]}"
      ]
     },
     "execution_count": 10,
     "metadata": {},
     "output_type": "execute_result"
    }
   ],
   "source": [
    "vectordb = Chroma(collection_name=\"my_collection\", persist_directory=\"my_vector_db\", embedding_function=watsonx_embedding)\n",
    "\n",
    "vectordb.get(limit=1)"
   ]
  },
  {
   "cell_type": "markdown",
   "metadata": {},
   "source": [
    "creating the retriever"
   ]
  },
  {
   "cell_type": "code",
   "execution_count": 11,
   "metadata": {},
   "outputs": [],
   "source": [
    "retriever_tool = create_retriever_tool(\n",
    "    vectordb.as_retriever(\n",
    "        search_type=\"similarity\",\n",
    "        search_kwargs={\n",
    "            \"k\": 3,\n",
    "        }\n",
    "    ),\n",
    "    \"retrieve_company_information\",\n",
    "    \"Search and return information about MadeUpCompany\",\n",
    ")\n",
    "\n",
    "tools_for_agent = [get_exchange_rate, retriever_tool]"
   ]
  },
  {
   "cell_type": "code",
   "execution_count": 12,
   "metadata": {},
   "outputs": [],
   "source": [
    "# Use the vectorstore as a retriever\n",
    "retriever = vectordb.as_retriever(\n",
    "    search_type=\"similarity\",\n",
    "    search_kwargs={\n",
    "        \"k\": 3,\n",
    "    }\n",
    ")\n",
    "\n",
    "retrieved_documents = retriever.invoke(\"Do you have a 30-day money-back guarantee?\")"
   ]
  },
  {
   "cell_type": "markdown",
   "metadata": {},
   "source": [
    "see our documents and headers"
   ]
  },
  {
   "cell_type": "code",
   "execution_count": 158,
   "metadata": {},
   "outputs": [
    {
     "data": {
      "text/plain": [
       "[Document(id='149fdb8a-e5ca-4235-a8db-21e7bed0de84', metadata={'Header 1': 'About MadeUpCompany', 'Header 2': 'Refund and Cancellation Policy'}, page_content=\"[About MadeUpCompany/Refund and Cancellation Policy]: \\nWe stand by the quality of our services and offer a 30-day money-back guarantee on all plans.  \\nIf you're not satisfied, you can request a full refund within the first 30 days.\\nAfter 30 days, you may cancel your subscription at any time, and we’ll issue a prorated refund based on your remaining subscription period.\\nEnterprise contracts include a flexible exit clause, ensuring fair terms for long-term clients.\\nUpcoming Features\"),\n",
       " Document(id='16fbc86f-4c00-45d2-b743-1ced10bc7205', metadata={'Header 1': 'About MadeUpCompany', 'Header 2': 'Pricing', 'Header 3': 'CloudMate Plans'}, page_content='[About MadeUpCompany/Pricing/CloudMate Plans]: \\nOur secure and scalable cloud storage service, CloudMate, is available in the following plans:\\n- Basic: $9.99/month – 100GB storage, essential security features\\n- Professional: $29.99/month – 1TB storage, enhanced security, priority support\\n- Enterprise: Custom pricing – Unlimited storage, advanced compliance tools, dedicated account manager'),\n",
       " Document(id='d9e66693-d095-436e-a6f0-b274e98135b5', metadata={'Header 1': 'About MadeUpCompany', 'Header 2': 'Technical Support'}, page_content='[About MadeUpCompany/Technical Support]: \\nOur award-winning customer support team is available 24/7 to assist with any technical issues. Support channels include:\\n- 📞 Toll-free phone support\\n- 💬 Live chat assistance\\n- 📧 Email support with guaranteed response within 6 hours\\n- 📚 Comprehensive FAQ and user guides available on our website\\n- 👥 Community forum for peer-to-peer discussions and best practices  \\nMost technical issues are resolved within 24 hours, ensuring minimal downtime for your business.')]"
      ]
     },
     "execution_count": 158,
     "metadata": {},
     "output_type": "execute_result"
    }
   ],
   "source": [
    "retrieved_documents"
   ]
  },
  {
   "cell_type": "code",
   "execution_count": 13,
   "metadata": {},
   "outputs": [],
   "source": [
    "graph = create_react_agent(chat_model, tools=tools_for_agent, debug=True)"
   ]
  },
  {
   "cell_type": "code",
   "execution_count": 159,
   "metadata": {},
   "outputs": [
    {
     "name": "stdout",
     "output_type": "stream",
     "text": [
      "\u001b[36;1m\u001b[1;3m[-1:checkpoint]\u001b[0m \u001b[1mState at the end of step -1:\n",
      "\u001b[0m{'messages': []}\n",
      "\u001b[36;1m\u001b[1;3m[0:tasks]\u001b[0m \u001b[1mStarting 1 task for step 0:\n",
      "\u001b[0m- \u001b[32;1m\u001b[1;3m__start__\u001b[0m -> {'messages': [('user',\n",
      "               'What is CloudMate from MadeUpCompany? Keep it short and '\n",
      "               'simple.')]}\n",
      "\u001b[36;1m\u001b[1;3m[0:writes]\u001b[0m \u001b[1mFinished step 0 with writes to 1 channel:\n",
      "\u001b[0m- \u001b[33;1m\u001b[1;3mmessages\u001b[0m -> [('user', 'What is CloudMate from MadeUpCompany? Keep it short and simple.')]\n",
      "\u001b[36;1m\u001b[1;3m[0:checkpoint]\u001b[0m \u001b[1mState at the end of step 0:\n",
      "\u001b[0m{'messages': [HumanMessage(content='What is CloudMate from MadeUpCompany? Keep it short and simple.', additional_kwargs={}, response_metadata={}, id='9f3fb7f0-1cce-49c2-bfe1-1addea55cef3')]}\n",
      "\u001b[36;1m\u001b[1;3m[1:tasks]\u001b[0m \u001b[1mStarting 1 task for step 1:\n",
      "\u001b[0m- \u001b[32;1m\u001b[1;3magent\u001b[0m -> {'is_last_step': False,\n",
      " 'messages': [HumanMessage(content='What is CloudMate from MadeUpCompany? Keep it short and simple.', additional_kwargs={}, response_metadata={}, id='9f3fb7f0-1cce-49c2-bfe1-1addea55cef3')],\n",
      " 'remaining_steps': 24}\n",
      "\u001b[36;1m\u001b[1;3m[1:writes]\u001b[0m \u001b[1mFinished step 1 with writes to 1 channel:\n",
      "\u001b[0m- \u001b[33;1m\u001b[1;3mmessages\u001b[0m -> [AIMessage(content='', additional_kwargs={'tool_calls': [{'id': 'AdyOeFqyH', 'type': 'function', 'function': {'name': 'retrieve_company_information', 'arguments': '{\"query\": \"CloudMate description\"}'}}]}, response_metadata={'token_usage': {'completion_tokens': 28, 'prompt_tokens': 519, 'total_tokens': 547}, 'model_name': 'mistralai/mistral-large', 'system_fingerprint': '', 'finish_reason': 'tool_calls'}, id='chatcmpl-5c37e41363506c73fad36a2b8d62ba47', tool_calls=[{'name': 'retrieve_company_information', 'args': {'query': 'CloudMate description'}, 'id': 'AdyOeFqyH', 'type': 'tool_call'}], usage_metadata={'input_tokens': 519, 'output_tokens': 28, 'total_tokens': 547})]\n",
      "\u001b[36;1m\u001b[1;3m[1:checkpoint]\u001b[0m \u001b[1mState at the end of step 1:\n",
      "\u001b[0m{'messages': [HumanMessage(content='What is CloudMate from MadeUpCompany? Keep it short and simple.', additional_kwargs={}, response_metadata={}, id='9f3fb7f0-1cce-49c2-bfe1-1addea55cef3'),\n",
      "              AIMessage(content='', additional_kwargs={'tool_calls': [{'id': 'AdyOeFqyH', 'type': 'function', 'function': {'name': 'retrieve_company_information', 'arguments': '{\"query\": \"CloudMate description\"}'}}]}, response_metadata={'token_usage': {'completion_tokens': 28, 'prompt_tokens': 519, 'total_tokens': 547}, 'model_name': 'mistralai/mistral-large', 'system_fingerprint': '', 'finish_reason': 'tool_calls'}, id='chatcmpl-5c37e41363506c73fad36a2b8d62ba47', tool_calls=[{'name': 'retrieve_company_information', 'args': {'query': 'CloudMate description'}, 'id': 'AdyOeFqyH', 'type': 'tool_call'}], usage_metadata={'input_tokens': 519, 'output_tokens': 28, 'total_tokens': 547})]}\n",
      "\u001b[36;1m\u001b[1;3m[2:tasks]\u001b[0m \u001b[1mStarting 1 task for step 2:\n",
      "\u001b[0m- \u001b[32;1m\u001b[1;3mtools\u001b[0m -> {'is_last_step': False,\n",
      " 'messages': [HumanMessage(content='What is CloudMate from MadeUpCompany? Keep it short and simple.', additional_kwargs={}, response_metadata={}, id='9f3fb7f0-1cce-49c2-bfe1-1addea55cef3'),\n",
      "              AIMessage(content='', additional_kwargs={'tool_calls': [{'id': 'AdyOeFqyH', 'type': 'function', 'function': {'name': 'retrieve_company_information', 'arguments': '{\"query\": \"CloudMate description\"}'}}]}, response_metadata={'token_usage': {'completion_tokens': 28, 'prompt_tokens': 519, 'total_tokens': 547}, 'model_name': 'mistralai/mistral-large', 'system_fingerprint': '', 'finish_reason': 'tool_calls'}, id='chatcmpl-5c37e41363506c73fad36a2b8d62ba47', tool_calls=[{'name': 'retrieve_company_information', 'args': {'query': 'CloudMate description'}, 'id': 'AdyOeFqyH', 'type': 'tool_call'}], usage_metadata={'input_tokens': 519, 'output_tokens': 28, 'total_tokens': 547})],\n",
      " 'remaining_steps': 23}\n",
      "\u001b[36;1m\u001b[1;3m[2:writes]\u001b[0m \u001b[1mFinished step 2 with writes to 1 channel:\n",
      "\u001b[0m- \u001b[33;1m\u001b[1;3mmessages\u001b[0m -> [ToolMessage(content='[About MadeUpCompany/Products and Services/CloudMate – Secure and Scalable Cloud Storage]: \\nCloudMate is our flagship cloud storage solution, designed for businesses of all sizes. Features include:\\n- ✅ Seamless data migration with automated backups\\n- ✅ Military-grade encryption and multi-factor authentication\\n- ✅ Role-based access control for enterprise security\\n- ✅ AI-powered file organization and search capabilities\\n\\n[About MadeUpCompany/Pricing/CloudMate Plans]: \\nOur secure and scalable cloud storage service, CloudMate, is available in the following plans:\\n- Basic: $9.99/month – 100GB storage, essential security features\\n- Professional: $29.99/month – 1TB storage, enhanced security, priority support\\n- Enterprise: Custom pricing – Unlimited storage, advanced compliance tools, dedicated account manager\\n\\n[About MadeUpCompany/Products and Services]: \\nWe offer a comprehensive suite of cloud-based solutions that streamline operations, enhance decision-making, and power AI-driven insights. Our core products include CloudMate, DataWiz, and Custom AI Solutions.', name='retrieve_company_information', tool_call_id='AdyOeFqyH')]\n",
      "\u001b[36;1m\u001b[1;3m[2:checkpoint]\u001b[0m \u001b[1mState at the end of step 2:\n",
      "\u001b[0m{'messages': [HumanMessage(content='What is CloudMate from MadeUpCompany? Keep it short and simple.', additional_kwargs={}, response_metadata={}, id='9f3fb7f0-1cce-49c2-bfe1-1addea55cef3'),\n",
      "              AIMessage(content='', additional_kwargs={'tool_calls': [{'id': 'AdyOeFqyH', 'type': 'function', 'function': {'name': 'retrieve_company_information', 'arguments': '{\"query\": \"CloudMate description\"}'}}]}, response_metadata={'token_usage': {'completion_tokens': 28, 'prompt_tokens': 519, 'total_tokens': 547}, 'model_name': 'mistralai/mistral-large', 'system_fingerprint': '', 'finish_reason': 'tool_calls'}, id='chatcmpl-5c37e41363506c73fad36a2b8d62ba47', tool_calls=[{'name': 'retrieve_company_information', 'args': {'query': 'CloudMate description'}, 'id': 'AdyOeFqyH', 'type': 'tool_call'}], usage_metadata={'input_tokens': 519, 'output_tokens': 28, 'total_tokens': 547}),\n",
      "              ToolMessage(content='[About MadeUpCompany/Products and Services/CloudMate – Secure and Scalable Cloud Storage]: \\nCloudMate is our flagship cloud storage solution, designed for businesses of all sizes. Features include:\\n- ✅ Seamless data migration with automated backups\\n- ✅ Military-grade encryption and multi-factor authentication\\n- ✅ Role-based access control for enterprise security\\n- ✅ AI-powered file organization and search capabilities\\n\\n[About MadeUpCompany/Pricing/CloudMate Plans]: \\nOur secure and scalable cloud storage service, CloudMate, is available in the following plans:\\n- Basic: $9.99/month – 100GB storage, essential security features\\n- Professional: $29.99/month – 1TB storage, enhanced security, priority support\\n- Enterprise: Custom pricing – Unlimited storage, advanced compliance tools, dedicated account manager\\n\\n[About MadeUpCompany/Products and Services]: \\nWe offer a comprehensive suite of cloud-based solutions that streamline operations, enhance decision-making, and power AI-driven insights. Our core products include CloudMate, DataWiz, and Custom AI Solutions.', name='retrieve_company_information', id='acc0215c-3e9b-48e7-85f7-5581a8cd4fd1', tool_call_id='AdyOeFqyH')]}\n",
      "\u001b[36;1m\u001b[1;3m[3:tasks]\u001b[0m \u001b[1mStarting 1 task for step 3:\n",
      "\u001b[0m- \u001b[32;1m\u001b[1;3magent\u001b[0m -> {'is_last_step': False,\n",
      " 'messages': [HumanMessage(content='What is CloudMate from MadeUpCompany? Keep it short and simple.', additional_kwargs={}, response_metadata={}, id='9f3fb7f0-1cce-49c2-bfe1-1addea55cef3'),\n",
      "              AIMessage(content='', additional_kwargs={'tool_calls': [{'id': 'AdyOeFqyH', 'type': 'function', 'function': {'name': 'retrieve_company_information', 'arguments': '{\"query\": \"CloudMate description\"}'}}]}, response_metadata={'token_usage': {'completion_tokens': 28, 'prompt_tokens': 519, 'total_tokens': 547}, 'model_name': 'mistralai/mistral-large', 'system_fingerprint': '', 'finish_reason': 'tool_calls'}, id='chatcmpl-5c37e41363506c73fad36a2b8d62ba47', tool_calls=[{'name': 'retrieve_company_information', 'args': {'query': 'CloudMate description'}, 'id': 'AdyOeFqyH', 'type': 'tool_call'}], usage_metadata={'input_tokens': 519, 'output_tokens': 28, 'total_tokens': 547}),\n",
      "              ToolMessage(content='[About MadeUpCompany/Products and Services/CloudMate – Secure and Scalable Cloud Storage]: \\nCloudMate is our flagship cloud storage solution, designed for businesses of all sizes. Features include:\\n- ✅ Seamless data migration with automated backups\\n- ✅ Military-grade encryption and multi-factor authentication\\n- ✅ Role-based access control for enterprise security\\n- ✅ AI-powered file organization and search capabilities\\n\\n[About MadeUpCompany/Pricing/CloudMate Plans]: \\nOur secure and scalable cloud storage service, CloudMate, is available in the following plans:\\n- Basic: $9.99/month – 100GB storage, essential security features\\n- Professional: $29.99/month – 1TB storage, enhanced security, priority support\\n- Enterprise: Custom pricing – Unlimited storage, advanced compliance tools, dedicated account manager\\n\\n[About MadeUpCompany/Products and Services]: \\nWe offer a comprehensive suite of cloud-based solutions that streamline operations, enhance decision-making, and power AI-driven insights. Our core products include CloudMate, DataWiz, and Custom AI Solutions.', name='retrieve_company_information', id='acc0215c-3e9b-48e7-85f7-5581a8cd4fd1', tool_call_id='AdyOeFqyH')],\n",
      " 'remaining_steps': 22}\n",
      "\u001b[36;1m\u001b[1;3m[3:writes]\u001b[0m \u001b[1mFinished step 3 with writes to 1 channel:\n",
      "\u001b[0m- \u001b[33;1m\u001b[1;3mmessages\u001b[0m -> [AIMessage(content=' CloudMate is our flagship cloud storage solution, designed for businesses of all sizes.\\nKey features include:\\n- Seamless data migration with automated backups\\n- Military-grade encryption and multi-factor authentication\\n- Role-based access control for enterprise security\\n- AI-powered file organization and search capabilities.', additional_kwargs={}, response_metadata={'token_usage': {'completion_tokens': 67, 'prompt_tokens': 838, 'total_tokens': 905}, 'model_name': 'mistralai/mistral-large', 'system_fingerprint': '', 'finish_reason': 'stop'}, id='chatcmpl-4b81909a2cdee45329c155c3b521dfbb', usage_metadata={'input_tokens': 838, 'output_tokens': 67, 'total_tokens': 905})]\n",
      "\u001b[36;1m\u001b[1;3m[3:checkpoint]\u001b[0m \u001b[1mState at the end of step 3:\n",
      "\u001b[0m{'messages': [HumanMessage(content='What is CloudMate from MadeUpCompany? Keep it short and simple.', additional_kwargs={}, response_metadata={}, id='9f3fb7f0-1cce-49c2-bfe1-1addea55cef3'),\n",
      "              AIMessage(content='', additional_kwargs={'tool_calls': [{'id': 'AdyOeFqyH', 'type': 'function', 'function': {'name': 'retrieve_company_information', 'arguments': '{\"query\": \"CloudMate description\"}'}}]}, response_metadata={'token_usage': {'completion_tokens': 28, 'prompt_tokens': 519, 'total_tokens': 547}, 'model_name': 'mistralai/mistral-large', 'system_fingerprint': '', 'finish_reason': 'tool_calls'}, id='chatcmpl-5c37e41363506c73fad36a2b8d62ba47', tool_calls=[{'name': 'retrieve_company_information', 'args': {'query': 'CloudMate description'}, 'id': 'AdyOeFqyH', 'type': 'tool_call'}], usage_metadata={'input_tokens': 519, 'output_tokens': 28, 'total_tokens': 547}),\n",
      "              ToolMessage(content='[About MadeUpCompany/Products and Services/CloudMate – Secure and Scalable Cloud Storage]: \\nCloudMate is our flagship cloud storage solution, designed for businesses of all sizes. Features include:\\n- ✅ Seamless data migration with automated backups\\n- ✅ Military-grade encryption and multi-factor authentication\\n- ✅ Role-based access control for enterprise security\\n- ✅ AI-powered file organization and search capabilities\\n\\n[About MadeUpCompany/Pricing/CloudMate Plans]: \\nOur secure and scalable cloud storage service, CloudMate, is available in the following plans:\\n- Basic: $9.99/month – 100GB storage, essential security features\\n- Professional: $29.99/month – 1TB storage, enhanced security, priority support\\n- Enterprise: Custom pricing – Unlimited storage, advanced compliance tools, dedicated account manager\\n\\n[About MadeUpCompany/Products and Services]: \\nWe offer a comprehensive suite of cloud-based solutions that streamline operations, enhance decision-making, and power AI-driven insights. Our core products include CloudMate, DataWiz, and Custom AI Solutions.', name='retrieve_company_information', id='acc0215c-3e9b-48e7-85f7-5581a8cd4fd1', tool_call_id='AdyOeFqyH'),\n",
      "              AIMessage(content=' CloudMate is our flagship cloud storage solution, designed for businesses of all sizes.\\nKey features include:\\n- Seamless data migration with automated backups\\n- Military-grade encryption and multi-factor authentication\\n- Role-based access control for enterprise security\\n- AI-powered file organization and search capabilities.', additional_kwargs={}, response_metadata={'token_usage': {'completion_tokens': 67, 'prompt_tokens': 838, 'total_tokens': 905}, 'model_name': 'mistralai/mistral-large', 'system_fingerprint': '', 'finish_reason': 'stop'}, id='chatcmpl-4b81909a2cdee45329c155c3b521dfbb', usage_metadata={'input_tokens': 838, 'output_tokens': 67, 'total_tokens': 905})]}\n"
     ]
    }
   ],
   "source": [
    "response = graph.invoke(\n",
    "    \n",
    "    {\n",
    "        \"messages\": [\n",
    "            (\n",
    "                \"user\", \"What is CloudMate from MadeUpCompany? Keep it short and simple.\"\n",
    "            )\n",
    "        ],\n",
    "    },\n",
    "    debug=True,\n",
    "    \n",
    ")"
   ]
  },
  {
   "cell_type": "markdown",
   "metadata": {},
   "source": [
    "check response"
   ]
  },
  {
   "cell_type": "code",
   "execution_count": 125,
   "metadata": {},
   "outputs": [
    {
     "data": {
      "text/plain": [
       "\" MadeUpCompany's CloudMate is a secure and scalable cloud storage solution with plans starting from $9.99/month for 100GB to custom pricing for unlimited storage. It features military-grade encryption, multi-factor authentication, and AI-powered file organization.\""
      ]
     },
     "execution_count": 125,
     "metadata": {},
     "output_type": "execute_result"
    }
   ],
   "source": [
    "response[\"messages\"][-1].content"
   ]
  },
  {
   "cell_type": "code",
   "execution_count": 160,
   "metadata": {},
   "outputs": [
    {
     "name": "stdout",
     "output_type": "stream",
     "text": [
      "\u001b[36;1m\u001b[1;3m[-1:checkpoint]\u001b[0m \u001b[1mState at the end of step -1:\n",
      "\u001b[0m{'messages': []}\n",
      "\u001b[36;1m\u001b[1;3m[0:tasks]\u001b[0m \u001b[1mStarting 1 task for step 0:\n",
      "\u001b[0m- \u001b[32;1m\u001b[1;3m__start__\u001b[0m -> {'messages': [('user',\n",
      "               'What is the price of CloudMate Professional? Find the price '\n",
      "               'first and then convert it to euros.')]}\n",
      "\u001b[36;1m\u001b[1;3m[0:writes]\u001b[0m \u001b[1mFinished step 0 with writes to 1 channel:\n",
      "\u001b[0m- \u001b[33;1m\u001b[1;3mmessages\u001b[0m -> [('user',\n",
      "  'What is the price of CloudMate Professional? Find the price first and then '\n",
      "  'convert it to euros.')]\n",
      "\u001b[36;1m\u001b[1;3m[0:checkpoint]\u001b[0m \u001b[1mState at the end of step 0:\n",
      "\u001b[0m{'messages': [HumanMessage(content='What is the price of CloudMate Professional? Find the price first and then convert it to euros.', additional_kwargs={}, response_metadata={}, id='8bd076bb-aa97-491b-90ba-57a174651503')]}\n",
      "\u001b[36;1m\u001b[1;3m[1:tasks]\u001b[0m \u001b[1mStarting 1 task for step 1:\n",
      "\u001b[0m- \u001b[32;1m\u001b[1;3magent\u001b[0m -> {'is_last_step': False,\n",
      " 'messages': [HumanMessage(content='What is the price of CloudMate Professional? Find the price first and then convert it to euros.', additional_kwargs={}, response_metadata={}, id='8bd076bb-aa97-491b-90ba-57a174651503')],\n",
      " 'remaining_steps': 24}\n",
      "\u001b[36;1m\u001b[1;3m[1:writes]\u001b[0m \u001b[1mFinished step 1 with writes to 1 channel:\n",
      "\u001b[0m- \u001b[33;1m\u001b[1;3mmessages\u001b[0m -> [AIMessage(content='', additional_kwargs={'tool_calls': [{'id': 'tdPD3lrJ8', 'type': 'function', 'function': {'name': 'duckduckgo_results_json', 'arguments': '{\"query\": \"cloudmate professional price\"}'}}]}, response_metadata={'token_usage': {'completion_tokens': 31, 'prompt_tokens': 525, 'total_tokens': 556}, 'model_name': 'mistralai/mistral-large', 'system_fingerprint': '', 'finish_reason': 'tool_calls'}, id='chatcmpl-17c4fc1c6c01ef96e188d0d06d1e8697', tool_calls=[{'name': 'duckduckgo_results_json', 'args': {'query': 'cloudmate professional price'}, 'id': 'tdPD3lrJ8', 'type': 'tool_call'}], usage_metadata={'input_tokens': 525, 'output_tokens': 31, 'total_tokens': 556})]\n",
      "\u001b[36;1m\u001b[1;3m[1:checkpoint]\u001b[0m \u001b[1mState at the end of step 1:\n",
      "\u001b[0m{'messages': [HumanMessage(content='What is the price of CloudMate Professional? Find the price first and then convert it to euros.', additional_kwargs={}, response_metadata={}, id='8bd076bb-aa97-491b-90ba-57a174651503'),\n",
      "              AIMessage(content='', additional_kwargs={'tool_calls': [{'id': 'tdPD3lrJ8', 'type': 'function', 'function': {'name': 'duckduckgo_results_json', 'arguments': '{\"query\": \"cloudmate professional price\"}'}}]}, response_metadata={'token_usage': {'completion_tokens': 31, 'prompt_tokens': 525, 'total_tokens': 556}, 'model_name': 'mistralai/mistral-large', 'system_fingerprint': '', 'finish_reason': 'tool_calls'}, id='chatcmpl-17c4fc1c6c01ef96e188d0d06d1e8697', tool_calls=[{'name': 'duckduckgo_results_json', 'args': {'query': 'cloudmate professional price'}, 'id': 'tdPD3lrJ8', 'type': 'tool_call'}], usage_metadata={'input_tokens': 525, 'output_tokens': 31, 'total_tokens': 556})]}\n",
      "\u001b[36;1m\u001b[1;3m[2:tasks]\u001b[0m \u001b[1mStarting 1 task for step 2:\n",
      "\u001b[0m- \u001b[32;1m\u001b[1;3mtools\u001b[0m -> {'is_last_step': False,\n",
      " 'messages': [HumanMessage(content='What is the price of CloudMate Professional? Find the price first and then convert it to euros.', additional_kwargs={}, response_metadata={}, id='8bd076bb-aa97-491b-90ba-57a174651503'),\n",
      "              AIMessage(content='', additional_kwargs={'tool_calls': [{'id': 'tdPD3lrJ8', 'type': 'function', 'function': {'name': 'duckduckgo_results_json', 'arguments': '{\"query\": \"cloudmate professional price\"}'}}]}, response_metadata={'token_usage': {'completion_tokens': 31, 'prompt_tokens': 525, 'total_tokens': 556}, 'model_name': 'mistralai/mistral-large', 'system_fingerprint': '', 'finish_reason': 'tool_calls'}, id='chatcmpl-17c4fc1c6c01ef96e188d0d06d1e8697', tool_calls=[{'name': 'duckduckgo_results_json', 'args': {'query': 'cloudmate professional price'}, 'id': 'tdPD3lrJ8', 'type': 'tool_call'}], usage_metadata={'input_tokens': 525, 'output_tokens': 31, 'total_tokens': 556})],\n",
      " 'remaining_steps': 23}\n",
      "\u001b[36;1m\u001b[1;3m[2:writes]\u001b[0m \u001b[1mFinished step 2 with writes to 1 channel:\n",
      "\u001b[0m- \u001b[33;1m\u001b[1;3mmessages\u001b[0m -> [ToolMessage(content=\"snippet: 1. 개요 [편집] 안랩 계열 클라우드 매니지드 서비스 기업 (MSP). 회사 자체 규모상으로는 중소기업 수준이나, 중견기업 분류에 속한다. 비즈니스의 클라우드 전환을 위하여 인프라 구축, 다양한 개발 환경, 보안 서비스를 제공하는 등 보안과 클라우드 네이티브 기술력을 바탕으로, 고객이 클라우드를 ..., title: 안랩클라우드메이트 - 나무위키, link: https://namu.wiki/w/안랩클라우드메이트, snippet: See 9 real customers reviews & our expert's opinion of CloudMate Softwares before signing up and learn why they are ranked 952nd out of 6191 web hosting companies, title: CloudMate Softwares Reviews by 9 Users & Expert Opinion - Mar 2025, link: https://hostadvice.com/hosting-company/cloudmate-softwares-reviews/, snippet: Discover how CloudMate can transform your cloud management experience in this quick guide. Say goodbye to the complexities of managing multiple cloud service..., title: Simplify Your Cloud Management with CloudMate - YouTube, link: https://www.youtube.com/watch?v=IwHt9T4qaTA, snippet: CloudMate - AI based cost management platform. CloudMate has 229 competitors., title: CloudMate - Company Profile - Tracxn, link: https://tracxn.com/d/companies/cloudmate/__uC3aHgybNBZ_tFAeF5lUyZkF_XQLopWjo55XdBarEOA\", name='duckduckgo_results_json', tool_call_id='tdPD3lrJ8', artifact=[{'snippet': '1. 개요 [편집] 안랩 계열 클라우드 매니지드 서비스 기업 (MSP). 회사 자체 규모상으로는 중소기업 수준이나, 중견기업 분류에 속한다. 비즈니스의 클라우드 전환을 위하여 인프라 구축, 다양한 개발 환경, 보안 서비스를 제공하는 등 보안과 클라우드 네이티브 기술력을 바탕으로, 고객이 클라우드를 ...', 'title': '안랩클라우드메이트 - 나무위키', 'link': 'https://namu.wiki/w/안랩클라우드메이트'}, {'snippet': \"See 9 real customers reviews & our expert's opinion of CloudMate Softwares before signing up and learn why they are ranked 952nd out of 6191 web hosting companies\", 'title': 'CloudMate Softwares Reviews by 9 Users & Expert Opinion - Mar 2025', 'link': 'https://hostadvice.com/hosting-company/cloudmate-softwares-reviews/'}, {'snippet': 'Discover how CloudMate can transform your cloud management experience in this quick guide. Say goodbye to the complexities of managing multiple cloud service...', 'title': 'Simplify Your Cloud Management with CloudMate - YouTube', 'link': 'https://www.youtube.com/watch?v=IwHt9T4qaTA'}, {'snippet': 'CloudMate - AI based cost management platform. CloudMate has 229 competitors.', 'title': 'CloudMate - Company Profile - Tracxn', 'link': 'https://tracxn.com/d/companies/cloudmate/__uC3aHgybNBZ_tFAeF5lUyZkF_XQLopWjo55XdBarEOA'}])]\n",
      "\u001b[36;1m\u001b[1;3m[2:checkpoint]\u001b[0m \u001b[1mState at the end of step 2:\n",
      "\u001b[0m{'messages': [HumanMessage(content='What is the price of CloudMate Professional? Find the price first and then convert it to euros.', additional_kwargs={}, response_metadata={}, id='8bd076bb-aa97-491b-90ba-57a174651503'),\n",
      "              AIMessage(content='', additional_kwargs={'tool_calls': [{'id': 'tdPD3lrJ8', 'type': 'function', 'function': {'name': 'duckduckgo_results_json', 'arguments': '{\"query\": \"cloudmate professional price\"}'}}]}, response_metadata={'token_usage': {'completion_tokens': 31, 'prompt_tokens': 525, 'total_tokens': 556}, 'model_name': 'mistralai/mistral-large', 'system_fingerprint': '', 'finish_reason': 'tool_calls'}, id='chatcmpl-17c4fc1c6c01ef96e188d0d06d1e8697', tool_calls=[{'name': 'duckduckgo_results_json', 'args': {'query': 'cloudmate professional price'}, 'id': 'tdPD3lrJ8', 'type': 'tool_call'}], usage_metadata={'input_tokens': 525, 'output_tokens': 31, 'total_tokens': 556}),\n",
      "              ToolMessage(content=\"snippet: 1. 개요 [편집] 안랩 계열 클라우드 매니지드 서비스 기업 (MSP). 회사 자체 규모상으로는 중소기업 수준이나, 중견기업 분류에 속한다. 비즈니스의 클라우드 전환을 위하여 인프라 구축, 다양한 개발 환경, 보안 서비스를 제공하는 등 보안과 클라우드 네이티브 기술력을 바탕으로, 고객이 클라우드를 ..., title: 안랩클라우드메이트 - 나무위키, link: https://namu.wiki/w/안랩클라우드메이트, snippet: See 9 real customers reviews & our expert's opinion of CloudMate Softwares before signing up and learn why they are ranked 952nd out of 6191 web hosting companies, title: CloudMate Softwares Reviews by 9 Users & Expert Opinion - Mar 2025, link: https://hostadvice.com/hosting-company/cloudmate-softwares-reviews/, snippet: Discover how CloudMate can transform your cloud management experience in this quick guide. Say goodbye to the complexities of managing multiple cloud service..., title: Simplify Your Cloud Management with CloudMate - YouTube, link: https://www.youtube.com/watch?v=IwHt9T4qaTA, snippet: CloudMate - AI based cost management platform. CloudMate has 229 competitors., title: CloudMate - Company Profile - Tracxn, link: https://tracxn.com/d/companies/cloudmate/__uC3aHgybNBZ_tFAeF5lUyZkF_XQLopWjo55XdBarEOA\", name='duckduckgo_results_json', id='f6f75a16-7059-430c-b28f-20f36a882922', tool_call_id='tdPD3lrJ8', artifact=[{'snippet': '1. 개요 [편집] 안랩 계열 클라우드 매니지드 서비스 기업 (MSP). 회사 자체 규모상으로는 중소기업 수준이나, 중견기업 분류에 속한다. 비즈니스의 클라우드 전환을 위하여 인프라 구축, 다양한 개발 환경, 보안 서비스를 제공하는 등 보안과 클라우드 네이티브 기술력을 바탕으로, 고객이 클라우드를 ...', 'title': '안랩클라우드메이트 - 나무위키', 'link': 'https://namu.wiki/w/안랩클라우드메이트'}, {'snippet': \"See 9 real customers reviews & our expert's opinion of CloudMate Softwares before signing up and learn why they are ranked 952nd out of 6191 web hosting companies\", 'title': 'CloudMate Softwares Reviews by 9 Users & Expert Opinion - Mar 2025', 'link': 'https://hostadvice.com/hosting-company/cloudmate-softwares-reviews/'}, {'snippet': 'Discover how CloudMate can transform your cloud management experience in this quick guide. Say goodbye to the complexities of managing multiple cloud service...', 'title': 'Simplify Your Cloud Management with CloudMate - YouTube', 'link': 'https://www.youtube.com/watch?v=IwHt9T4qaTA'}, {'snippet': 'CloudMate - AI based cost management platform. CloudMate has 229 competitors.', 'title': 'CloudMate - Company Profile - Tracxn', 'link': 'https://tracxn.com/d/companies/cloudmate/__uC3aHgybNBZ_tFAeF5lUyZkF_XQLopWjo55XdBarEOA'}])]}\n",
      "\u001b[36;1m\u001b[1;3m[3:tasks]\u001b[0m \u001b[1mStarting 1 task for step 3:\n",
      "\u001b[0m- \u001b[32;1m\u001b[1;3magent\u001b[0m -> {'is_last_step': False,\n",
      " 'messages': [HumanMessage(content='What is the price of CloudMate Professional? Find the price first and then convert it to euros.', additional_kwargs={}, response_metadata={}, id='8bd076bb-aa97-491b-90ba-57a174651503'),\n",
      "              AIMessage(content='', additional_kwargs={'tool_calls': [{'id': 'tdPD3lrJ8', 'type': 'function', 'function': {'name': 'duckduckgo_results_json', 'arguments': '{\"query\": \"cloudmate professional price\"}'}}]}, response_metadata={'token_usage': {'completion_tokens': 31, 'prompt_tokens': 525, 'total_tokens': 556}, 'model_name': 'mistralai/mistral-large', 'system_fingerprint': '', 'finish_reason': 'tool_calls'}, id='chatcmpl-17c4fc1c6c01ef96e188d0d06d1e8697', tool_calls=[{'name': 'duckduckgo_results_json', 'args': {'query': 'cloudmate professional price'}, 'id': 'tdPD3lrJ8', 'type': 'tool_call'}], usage_metadata={'input_tokens': 525, 'output_tokens': 31, 'total_tokens': 556}),\n",
      "              ToolMessage(content=\"snippet: 1. 개요 [편집] 안랩 계열 클라우드 매니지드 서비스 기업 (MSP). 회사 자체 규모상으로는 중소기업 수준이나, 중견기업 분류에 속한다. 비즈니스의 클라우드 전환을 위하여 인프라 구축, 다양한 개발 환경, 보안 서비스를 제공하는 등 보안과 클라우드 네이티브 기술력을 바탕으로, 고객이 클라우드를 ..., title: 안랩클라우드메이트 - 나무위키, link: https://namu.wiki/w/안랩클라우드메이트, snippet: See 9 real customers reviews & our expert's opinion of CloudMate Softwares before signing up and learn why they are ranked 952nd out of 6191 web hosting companies, title: CloudMate Softwares Reviews by 9 Users & Expert Opinion - Mar 2025, link: https://hostadvice.com/hosting-company/cloudmate-softwares-reviews/, snippet: Discover how CloudMate can transform your cloud management experience in this quick guide. Say goodbye to the complexities of managing multiple cloud service..., title: Simplify Your Cloud Management with CloudMate - YouTube, link: https://www.youtube.com/watch?v=IwHt9T4qaTA, snippet: CloudMate - AI based cost management platform. CloudMate has 229 competitors., title: CloudMate - Company Profile - Tracxn, link: https://tracxn.com/d/companies/cloudmate/__uC3aHgybNBZ_tFAeF5lUyZkF_XQLopWjo55XdBarEOA\", name='duckduckgo_results_json', id='f6f75a16-7059-430c-b28f-20f36a882922', tool_call_id='tdPD3lrJ8', artifact=[{'snippet': '1. 개요 [편집] 안랩 계열 클라우드 매니지드 서비스 기업 (MSP). 회사 자체 규모상으로는 중소기업 수준이나, 중견기업 분류에 속한다. 비즈니스의 클라우드 전환을 위하여 인프라 구축, 다양한 개발 환경, 보안 서비스를 제공하는 등 보안과 클라우드 네이티브 기술력을 바탕으로, 고객이 클라우드를 ...', 'title': '안랩클라우드메이트 - 나무위키', 'link': 'https://namu.wiki/w/안랩클라우드메이트'}, {'snippet': \"See 9 real customers reviews & our expert's opinion of CloudMate Softwares before signing up and learn why they are ranked 952nd out of 6191 web hosting companies\", 'title': 'CloudMate Softwares Reviews by 9 Users & Expert Opinion - Mar 2025', 'link': 'https://hostadvice.com/hosting-company/cloudmate-softwares-reviews/'}, {'snippet': 'Discover how CloudMate can transform your cloud management experience in this quick guide. Say goodbye to the complexities of managing multiple cloud service...', 'title': 'Simplify Your Cloud Management with CloudMate - YouTube', 'link': 'https://www.youtube.com/watch?v=IwHt9T4qaTA'}, {'snippet': 'CloudMate - AI based cost management platform. CloudMate has 229 competitors.', 'title': 'CloudMate - Company Profile - Tracxn', 'link': 'https://tracxn.com/d/companies/cloudmate/__uC3aHgybNBZ_tFAeF5lUyZkF_XQLopWjo55XdBarEOA'}])],\n",
      " 'remaining_steps': 22}\n",
      "\u001b[36;1m\u001b[1;3m[3:writes]\u001b[0m \u001b[1mFinished step 3 with writes to 1 channel:\n",
      "\u001b[0m- \u001b[33;1m\u001b[1;3mmessages\u001b[0m -> [AIMessage(content=' I would check the proper source, but for now lets convert the price. What is the price?', additional_kwargs={}, response_metadata={'token_usage': {'completion_tokens': 21, 'prompt_tokens': 1073, 'total_tokens': 1094}, 'model_name': 'mistralai/mistral-large', 'system_fingerprint': '', 'finish_reason': 'stop'}, id='chatcmpl-1ff6abf93cd536a6aad3ce96a1c56896', usage_metadata={'input_tokens': 1073, 'output_tokens': 21, 'total_tokens': 1094})]\n",
      "\u001b[36;1m\u001b[1;3m[3:checkpoint]\u001b[0m \u001b[1mState at the end of step 3:\n",
      "\u001b[0m{'messages': [HumanMessage(content='What is the price of CloudMate Professional? Find the price first and then convert it to euros.', additional_kwargs={}, response_metadata={}, id='8bd076bb-aa97-491b-90ba-57a174651503'),\n",
      "              AIMessage(content='', additional_kwargs={'tool_calls': [{'id': 'tdPD3lrJ8', 'type': 'function', 'function': {'name': 'duckduckgo_results_json', 'arguments': '{\"query\": \"cloudmate professional price\"}'}}]}, response_metadata={'token_usage': {'completion_tokens': 31, 'prompt_tokens': 525, 'total_tokens': 556}, 'model_name': 'mistralai/mistral-large', 'system_fingerprint': '', 'finish_reason': 'tool_calls'}, id='chatcmpl-17c4fc1c6c01ef96e188d0d06d1e8697', tool_calls=[{'name': 'duckduckgo_results_json', 'args': {'query': 'cloudmate professional price'}, 'id': 'tdPD3lrJ8', 'type': 'tool_call'}], usage_metadata={'input_tokens': 525, 'output_tokens': 31, 'total_tokens': 556}),\n",
      "              ToolMessage(content=\"snippet: 1. 개요 [편집] 안랩 계열 클라우드 매니지드 서비스 기업 (MSP). 회사 자체 규모상으로는 중소기업 수준이나, 중견기업 분류에 속한다. 비즈니스의 클라우드 전환을 위하여 인프라 구축, 다양한 개발 환경, 보안 서비스를 제공하는 등 보안과 클라우드 네이티브 기술력을 바탕으로, 고객이 클라우드를 ..., title: 안랩클라우드메이트 - 나무위키, link: https://namu.wiki/w/안랩클라우드메이트, snippet: See 9 real customers reviews & our expert's opinion of CloudMate Softwares before signing up and learn why they are ranked 952nd out of 6191 web hosting companies, title: CloudMate Softwares Reviews by 9 Users & Expert Opinion - Mar 2025, link: https://hostadvice.com/hosting-company/cloudmate-softwares-reviews/, snippet: Discover how CloudMate can transform your cloud management experience in this quick guide. Say goodbye to the complexities of managing multiple cloud service..., title: Simplify Your Cloud Management with CloudMate - YouTube, link: https://www.youtube.com/watch?v=IwHt9T4qaTA, snippet: CloudMate - AI based cost management platform. CloudMate has 229 competitors., title: CloudMate - Company Profile - Tracxn, link: https://tracxn.com/d/companies/cloudmate/__uC3aHgybNBZ_tFAeF5lUyZkF_XQLopWjo55XdBarEOA\", name='duckduckgo_results_json', id='f6f75a16-7059-430c-b28f-20f36a882922', tool_call_id='tdPD3lrJ8', artifact=[{'snippet': '1. 개요 [편집] 안랩 계열 클라우드 매니지드 서비스 기업 (MSP). 회사 자체 규모상으로는 중소기업 수준이나, 중견기업 분류에 속한다. 비즈니스의 클라우드 전환을 위하여 인프라 구축, 다양한 개발 환경, 보안 서비스를 제공하는 등 보안과 클라우드 네이티브 기술력을 바탕으로, 고객이 클라우드를 ...', 'title': '안랩클라우드메이트 - 나무위키', 'link': 'https://namu.wiki/w/안랩클라우드메이트'}, {'snippet': \"See 9 real customers reviews & our expert's opinion of CloudMate Softwares before signing up and learn why they are ranked 952nd out of 6191 web hosting companies\", 'title': 'CloudMate Softwares Reviews by 9 Users & Expert Opinion - Mar 2025', 'link': 'https://hostadvice.com/hosting-company/cloudmate-softwares-reviews/'}, {'snippet': 'Discover how CloudMate can transform your cloud management experience in this quick guide. Say goodbye to the complexities of managing multiple cloud service...', 'title': 'Simplify Your Cloud Management with CloudMate - YouTube', 'link': 'https://www.youtube.com/watch?v=IwHt9T4qaTA'}, {'snippet': 'CloudMate - AI based cost management platform. CloudMate has 229 competitors.', 'title': 'CloudMate - Company Profile - Tracxn', 'link': 'https://tracxn.com/d/companies/cloudmate/__uC3aHgybNBZ_tFAeF5lUyZkF_XQLopWjo55XdBarEOA'}]),\n",
      "              AIMessage(content=' I would check the proper source, but for now lets convert the price. What is the price?', additional_kwargs={}, response_metadata={'token_usage': {'completion_tokens': 21, 'prompt_tokens': 1073, 'total_tokens': 1094}, 'model_name': 'mistralai/mistral-large', 'system_fingerprint': '', 'finish_reason': 'stop'}, id='chatcmpl-1ff6abf93cd536a6aad3ce96a1c56896', usage_metadata={'input_tokens': 1073, 'output_tokens': 21, 'total_tokens': 1094})]}\n"
     ]
    }
   ],
   "source": [
    "response = graph.invoke(\n",
    "    \n",
    "    {\n",
    "        \"messages\": [\n",
    "            (\n",
    "                \"user\", \"What is the price of CloudMate Professional? Find the price first and then convert it to euros.\"\n",
    "            )\n",
    "        ],\n",
    "    },\n",
    "    debug=True,\n",
    "    \n",
    ")"
   ]
  },
  {
   "cell_type": "code",
   "execution_count": 129,
   "metadata": {},
   "outputs": [
    {
     "name": "stdout",
     "output_type": "stream",
     "text": [
      " The exchange rate of USD to EUR is 0.88028. So, the price of CloudMate Professional in EUR is 26.368632.\n"
     ]
    }
   ],
   "source": [
    "print(response[\"messages\"][-1].content)"
   ]
  },
  {
   "cell_type": "markdown",
   "metadata": {},
   "source": [
    "adding a search tool"
   ]
  },
  {
   "cell_type": "code",
   "execution_count": 14,
   "metadata": {},
   "outputs": [],
   "source": [
    "search_tool = DuckDuckGoSearchResults()"
   ]
  },
  {
   "cell_type": "code",
   "execution_count": 15,
   "metadata": {},
   "outputs": [],
   "source": [
    "tools_for_agent = [get_exchange_rate, retriever_tool, search_tool]\n",
    "\n",
    "graph = create_react_agent(chat_model, tools= tools_for_agent, debug=True)"
   ]
  },
  {
   "cell_type": "code",
   "execution_count": 16,
   "metadata": {},
   "outputs": [
    {
     "name": "stdout",
     "output_type": "stream",
     "text": [
      "\u001b[36;1m\u001b[1;3m[-1:checkpoint]\u001b[0m \u001b[1mState at the end of step -1:\n",
      "\u001b[0m{'messages': []}\n",
      "\u001b[36;1m\u001b[1;3m[0:tasks]\u001b[0m \u001b[1mStarting 1 task for step 0:\n",
      "\u001b[0m- \u001b[32;1m\u001b[1;3m__start__\u001b[0m -> {'messages': [('user',\n",
      "               'Compare the price of CloudMate Professional from MadeUpCompany '\n",
      "               'with the price of OneDrive from Microsoft. Find the price '\n",
      "               'first and then convert it to euros, if information is not '\n",
      "               'available use the search tool to access online resources')]}\n",
      "\u001b[36;1m\u001b[1;3m[0:writes]\u001b[0m \u001b[1mFinished step 0 with writes to 1 channel:\n",
      "\u001b[0m- \u001b[33;1m\u001b[1;3mmessages\u001b[0m -> [('user',\n",
      "  'Compare the price of CloudMate Professional from MadeUpCompany with the '\n",
      "  'price of OneDrive from Microsoft. Find the price first and then convert it '\n",
      "  'to euros, if information is not available use the search tool to access '\n",
      "  'online resources')]\n",
      "\u001b[36;1m\u001b[1;3m[0:checkpoint]\u001b[0m \u001b[1mState at the end of step 0:\n",
      "\u001b[0m{'messages': [HumanMessage(content='Compare the price of CloudMate Professional from MadeUpCompany with the price of OneDrive from Microsoft. Find the price first and then convert it to euros, if information is not available use the search tool to access online resources', additional_kwargs={}, response_metadata={}, id='29565595-8f5e-461e-aeb3-602c1aace2df')]}\n",
      "\u001b[36;1m\u001b[1;3m[1:tasks]\u001b[0m \u001b[1mStarting 1 task for step 1:\n",
      "\u001b[0m- \u001b[32;1m\u001b[1;3magent\u001b[0m -> {'is_last_step': False,\n",
      " 'messages': [HumanMessage(content='Compare the price of CloudMate Professional from MadeUpCompany with the price of OneDrive from Microsoft. Find the price first and then convert it to euros, if information is not available use the search tool to access online resources', additional_kwargs={}, response_metadata={}, id='29565595-8f5e-461e-aeb3-602c1aace2df')],\n",
      " 'remaining_steps': 24}\n",
      "\u001b[36;1m\u001b[1;3m[1:writes]\u001b[0m \u001b[1mFinished step 1 with writes to 1 channel:\n",
      "\u001b[0m- \u001b[33;1m\u001b[1;3mmessages\u001b[0m -> [AIMessage(content=' {}\", {\"name\": \"retrieve_company_information\", \"arguments\": {\"query\": \"CloudMate Professional madeupcompany\"}}, {\"name\": \"retrieve_company_information\", \"arguments\": {\"query\": \"OneDrive Microsoft price\"}}', additional_kwargs={}, response_metadata={'token_usage': {'completion_tokens': 54, 'prompt_tokens': 551, 'total_tokens': 605}, 'model_name': 'mistralai/mistral-large', 'system_fingerprint': '', 'finish_reason': 'stop'}, id='chatcmpl-8cc4fab9d1eeea36378f74f7d0744c3a', usage_metadata={'input_tokens': 551, 'output_tokens': 54, 'total_tokens': 605})]\n",
      "\u001b[36;1m\u001b[1;3m[1:checkpoint]\u001b[0m \u001b[1mState at the end of step 1:\n",
      "\u001b[0m{'messages': [HumanMessage(content='Compare the price of CloudMate Professional from MadeUpCompany with the price of OneDrive from Microsoft. Find the price first and then convert it to euros, if information is not available use the search tool to access online resources', additional_kwargs={}, response_metadata={}, id='29565595-8f5e-461e-aeb3-602c1aace2df'),\n",
      "              AIMessage(content=' {}\", {\"name\": \"retrieve_company_information\", \"arguments\": {\"query\": \"CloudMate Professional madeupcompany\"}}, {\"name\": \"retrieve_company_information\", \"arguments\": {\"query\": \"OneDrive Microsoft price\"}}', additional_kwargs={}, response_metadata={'token_usage': {'completion_tokens': 54, 'prompt_tokens': 551, 'total_tokens': 605}, 'model_name': 'mistralai/mistral-large', 'system_fingerprint': '', 'finish_reason': 'stop'}, id='chatcmpl-8cc4fab9d1eeea36378f74f7d0744c3a', usage_metadata={'input_tokens': 551, 'output_tokens': 54, 'total_tokens': 605})]}\n"
     ]
    }
   ],
   "source": [
    "response = graph.invoke(\n",
    "    {\n",
    "        \"messages\": [\n",
    "            (\n",
    "                \"user\", \"Compare the price of CloudMate Professional from MadeUpCompany with the price of OneDrive from Microsoft. Find the price first and then convert it to euros, if information is not available use the search tool to access online resources\"\n",
    "            )\n",
    "        ],\n",
    "    },\n",
    "    debug=True,\n",
    "    \n",
    ")"
   ]
  },
  {
   "cell_type": "code",
   "execution_count": 164,
   "metadata": {},
   "outputs": [
    {
     "data": {
      "text/plain": [
       "' ### CloudMate Professional vs Microsoft OneDrive Pricing Comparison\\n\\n| Feature                   | MadeUpCompany/CloudMate Professional                  | Microsoft/OneDrive                 |\\n|---------------------------|------------------------------------------------------|-----------------------------------|\\n| **Monthly Price**         | $29.99 / month                                       | $6.99 / month                     |\\n| **Storage**               | 1TB storage                                          | 1TB storage                       |\\n| **Security**              | Enhanced security features                           | Advanced security measures        |\\n| **Support**               | Priority customer support                            | Customer support                  |\\n| **Price in Euros**        | €26.32 (Converted at the exchange rate of 0.88028)   | €7.00 (Approximate conversion)     |\\n\\nBased on the information provided, here is a comparison of CloudMate Professional from MadeUpCompany and OneDrive from Microsoft:\\n\\n- **CloudMate Professional** by MadeUpCompany offers 1TB of storage with enhanced security features and priority support for $29.99 per month. When converted to euros, this amounts to approximately €26.32.\\n\\n- **OneDrive** by Microsoft provides 1TB of storage with advanced security measures and customer support for $6.99 per month. While an exact euro conversion was not provided, it is estimated to be around €7.00.\\n\\nBoth services offer comprehensive cloud storage solutions with secure environments and customer support, but the pricing for OneDrive is significantly lower compared to CloudMate Professional.'"
      ]
     },
     "execution_count": 164,
     "metadata": {},
     "output_type": "execute_result"
    }
   ],
   "source": [
    "response[\"messages\"][-1].content"
   ]
  },
  {
   "attachments": {
    "image-2.png": {
     "image/png": "[encoded data removed]"
    },
    "image.png": {
     "image/png": "[encoded data removed]"
    }
   },
   "cell_type": "markdown",
   "metadata": {},
   "source": [
    "Here is the response i got when displayed in a readable format; \n",
    "\n",
    "![image.png](attachment:image.png)\n",
    "\n",
    "and after some tuning\n",
    "![image-2.png](attachment:image-2.png)\n"
   ]
  },
  {
   "cell_type": "markdown",
   "metadata": {},
   "source": [
    "At first i had issues making my Tool agent use all of its available tools, this got solved when the tool was more integrated into the prompt "
   ]
  },
  {
   "cell_type": "markdown",
   "metadata": {},
   "source": [
    "## adding and testing new tools\n"
   ]
  },
  {
   "cell_type": "code",
   "execution_count": null,
   "metadata": {},
   "outputs": [],
   "source": [
    "\n",
    "from langchain.tools.arxiv.tool import ArxivQueryRun\n",
    "\n",
    "#arxiv_tool = load_tools([\"arxiv\"]),\n",
    "arxiv_tool = ArxivQueryRun()\n",
    "\n",
    "# 4) extend your existing tools list\n",
    "tools_for_agent = [get_exchange_rate, retriever_tool, search_tool, arxiv_tool,]\n",
    "\n",
    "graph = create_react_agent(chat_model, tools=tools_for_agent, debug=True)"
   ]
  },
  {
   "cell_type": "code",
   "execution_count": 21,
   "metadata": {},
   "outputs": [
    {
     "name": "stdout",
     "output_type": "stream",
     "text": [
      "\u001b[36;1m\u001b[1;3m[-1:checkpoint]\u001b[0m \u001b[1mState at the end of step -1:\n",
      "\u001b[0m{'messages': []}\n",
      "\u001b[36;1m\u001b[1;3m[0:tasks]\u001b[0m \u001b[1mStarting 1 task for step 0:\n",
      "\u001b[0m- \u001b[32;1m\u001b[1;3m__start__\u001b[0m -> {'messages': [('user',\n",
      "               \"please give me the price of madeupcompany's cloudmate \"\n",
      "               \"professional and the latest arxiv paper on the topic of LLM's. \"\n",
      "               'If the information is not available use the search tool to '\n",
      "               'access online resources')]}\n",
      "\u001b[36;1m\u001b[1;3m[0:writes]\u001b[0m \u001b[1mFinished step 0 with writes to 1 channel:\n",
      "\u001b[0m- \u001b[33;1m\u001b[1;3mmessages\u001b[0m -> [('user',\n",
      "  \"please give me the price of madeupcompany's cloudmate professional and the \"\n",
      "  \"latest arxiv paper on the topic of LLM's. If the information is not \"\n",
      "  'available use the search tool to access online resources')]\n",
      "\u001b[36;1m\u001b[1;3m[0:checkpoint]\u001b[0m \u001b[1mState at the end of step 0:\n",
      "\u001b[0m{'messages': [HumanMessage(content=\"please give me the price of madeupcompany's cloudmate professional and the latest arxiv paper on the topic of LLM's. If the information is not available use the search tool to access online resources\", additional_kwargs={}, response_metadata={}, id='4c51c344-79db-4983-9b6d-a7e452abc2c9')]}\n",
      "\u001b[36;1m\u001b[1;3m[1:tasks]\u001b[0m \u001b[1mStarting 1 task for step 1:\n",
      "\u001b[0m- \u001b[32;1m\u001b[1;3magent\u001b[0m -> {'is_last_step': False,\n",
      " 'messages': [HumanMessage(content=\"please give me the price of madeupcompany's cloudmate professional and the latest arxiv paper on the topic of LLM's. If the information is not available use the search tool to access online resources\", additional_kwargs={}, response_metadata={}, id='4c51c344-79db-4983-9b6d-a7e452abc2c9')],\n",
      " 'remaining_steps': 24}\n",
      "\u001b[36;1m\u001b[1;3m[1:writes]\u001b[0m \u001b[1mFinished step 1 with writes to 1 channel:\n",
      "\u001b[0m- \u001b[33;1m\u001b[1;3mmessages\u001b[0m -> [AIMessage(content='', additional_kwargs={'tool_calls': [{'id': '7g3OWz071', 'type': 'function', 'function': {'name': 'retrieve_company_information', 'arguments': '{\"query\": \"price of madeupcompany\\'s cloudmate professional\"}'}}, {'id': 'saNpizPOq', 'type': 'function', 'function': {'name': 'arxiv', 'arguments': '{\"query\": \"LLM\"}'}}]}, response_metadata={'token_usage': {'completion_tokens': 53, 'prompt_tokens': 670, 'total_tokens': 723}, 'model_name': 'mistralai/mistral-large', 'system_fingerprint': '', 'finish_reason': 'tool_calls'}, id='chatcmpl-17a5376045c7f99b02a80c992ca6acee', tool_calls=[{'name': 'retrieve_company_information', 'args': {'query': \"price of madeupcompany's cloudmate professional\"}, 'id': '7g3OWz071', 'type': 'tool_call'}, {'name': 'arxiv', 'args': {'query': 'LLM'}, 'id': 'saNpizPOq', 'type': 'tool_call'}], usage_metadata={'input_tokens': 670, 'output_tokens': 53, 'total_tokens': 723})]\n",
      "\u001b[36;1m\u001b[1;3m[1:checkpoint]\u001b[0m \u001b[1mState at the end of step 1:\n",
      "\u001b[0m{'messages': [HumanMessage(content=\"please give me the price of madeupcompany's cloudmate professional and the latest arxiv paper on the topic of LLM's. If the information is not available use the search tool to access online resources\", additional_kwargs={}, response_metadata={}, id='4c51c344-79db-4983-9b6d-a7e452abc2c9'),\n",
      "              AIMessage(content='', additional_kwargs={'tool_calls': [{'id': '7g3OWz071', 'type': 'function', 'function': {'name': 'retrieve_company_information', 'arguments': '{\"query\": \"price of madeupcompany\\'s cloudmate professional\"}'}}, {'id': 'saNpizPOq', 'type': 'function', 'function': {'name': 'arxiv', 'arguments': '{\"query\": \"LLM\"}'}}]}, response_metadata={'token_usage': {'completion_tokens': 53, 'prompt_tokens': 670, 'total_tokens': 723}, 'model_name': 'mistralai/mistral-large', 'system_fingerprint': '', 'finish_reason': 'tool_calls'}, id='chatcmpl-17a5376045c7f99b02a80c992ca6acee', tool_calls=[{'name': 'retrieve_company_information', 'args': {'query': \"price of madeupcompany's cloudmate professional\"}, 'id': '7g3OWz071', 'type': 'tool_call'}, {'name': 'arxiv', 'args': {'query': 'LLM'}, 'id': 'saNpizPOq', 'type': 'tool_call'}], usage_metadata={'input_tokens': 670, 'output_tokens': 53, 'total_tokens': 723})]}\n",
      "\u001b[36;1m\u001b[1;3m[2:tasks]\u001b[0m \u001b[1mStarting 1 task for step 2:\n",
      "\u001b[0m- \u001b[32;1m\u001b[1;3mtools\u001b[0m -> {'is_last_step': False,\n",
      " 'messages': [HumanMessage(content=\"please give me the price of madeupcompany's cloudmate professional and the latest arxiv paper on the topic of LLM's. If the information is not available use the search tool to access online resources\", additional_kwargs={}, response_metadata={}, id='4c51c344-79db-4983-9b6d-a7e452abc2c9'),\n",
      "              AIMessage(content='', additional_kwargs={'tool_calls': [{'id': '7g3OWz071', 'type': 'function', 'function': {'name': 'retrieve_company_information', 'arguments': '{\"query\": \"price of madeupcompany\\'s cloudmate professional\"}'}}, {'id': 'saNpizPOq', 'type': 'function', 'function': {'name': 'arxiv', 'arguments': '{\"query\": \"LLM\"}'}}]}, response_metadata={'token_usage': {'completion_tokens': 53, 'prompt_tokens': 670, 'total_tokens': 723}, 'model_name': 'mistralai/mistral-large', 'system_fingerprint': '', 'finish_reason': 'tool_calls'}, id='chatcmpl-17a5376045c7f99b02a80c992ca6acee', tool_calls=[{'name': 'retrieve_company_information', 'args': {'query': \"price of madeupcompany's cloudmate professional\"}, 'id': '7g3OWz071', 'type': 'tool_call'}, {'name': 'arxiv', 'args': {'query': 'LLM'}, 'id': 'saNpizPOq', 'type': 'tool_call'}], usage_metadata={'input_tokens': 670, 'output_tokens': 53, 'total_tokens': 723})],\n",
      " 'remaining_steps': 23}\n",
      "\u001b[36;1m\u001b[1;3m[2:writes]\u001b[0m \u001b[1mFinished step 2 with writes to 1 channel:\n",
      "\u001b[0m- \u001b[33;1m\u001b[1;3mmessages\u001b[0m -> [ToolMessage(content='[About MadeUpCompany/Pricing]: \\nWe offer flexible pricing plans to meet the needs of individuals, small businesses, and large enterprises.\\n\\n[About MadeUpCompany]: \\nMadeUpCompany is a pioneering technology firm founded in 2010, specializing in cloud computing, data analytics, and machine learning. Headquartered in San Francisco, California, we have a global presence with satellite offices in New York, London, and Tokyo. Our mission is to empower businesses and individuals with cutting-edge technology that enhances efficiency, scalability, and innovation.  \\nWith a diverse team of experts from various industries—including AI research, cybersecurity, and enterprise software development—we push the boundaries of what’s possible. Our commitment to continuous improvement, security, and customer success has earned us recognition as a leader in the tech space.\\n\\n[About MadeUpCompany/Pricing/CloudMate Plans]: \\nOur secure and scalable cloud storage service, CloudMate, is available in the following plans:\\n- Basic: $9.99/month – 100GB storage, essential security features\\n- Professional: $29.99/month – 1TB storage, enhanced security, priority support\\n- Enterprise: Custom pricing – Unlimited storage, advanced compliance tools, dedicated account manager', name='retrieve_company_information', tool_call_id='7g3OWz071'),\n",
      " ToolMessage(content=\"Published: 2024-12-23\\nTitle: Trustworthy and Efficient LLMs Meet Databases\\nAuthors: Kyoungmin Kim, Anastasia Ailamaki\\nSummary: In the rapidly evolving AI era with large language models (LLMs) at the core,\\nmaking LLMs more trustworthy and efficient, especially in output generation\\n(inference), has gained significant attention. This is to reduce plausible but\\nfaulty LLM outputs (a.k.a hallucinations) and meet the highly increased\\ninference demands. This tutorial explores such efforts and makes them\\ntransparent to the database community. Understanding these efforts is essential\\nin harnessing LLMs in database tasks and adapting database techniques to LLMs.\\nFurthermore, we delve into the synergy between LLMs and databases, highlighting\\nnew opportunities and challenges in their intersection. This tutorial aims to\\nshare with database researchers and practitioners essential concepts and\\nstrategies around LLMs, reduce the unfamiliarity of LLMs, and inspire joining\\nin the intersection between LLMs and databases.\\n\\nPublished: 2024-06-13\\nTitle: Large Language Models as Software Components: A Taxonomy for LLM-Integrated Applications\\nAuthors: Irene Weber\\nSummary: Large Language Models (LLMs) have become widely adopted recently. Research\\nexplores their use both as autonomous agents and as tools for software\\nengineering. LLM-integrated applications, on the other hand, are software\\nsystems that leverage an LLM to perform tasks that would otherwise be\\nimpossible or require significant coding effort. While LLM-integrated\\napplication engineering is emerging as new discipline, its terminology,\\nconcepts and methods need to be established. This study provides a taxonomy for\\nLLM-integrated applications, offering a framework for analyzing and describing\\nthese systems. It also demonstrates various ways to utilize LLMs in\\napplications, as well as options for implementing such integrations.\\n  Following established methods, we analyze a sample of recent LLM-integrated\\napplications to identify relevant dimensions. We evaluate the taxonomy by\\napplying it to additional cases. This review shows that applications integrate\\nLLMs in numerous ways for various purposes. Frequently, they comprise multiple\\nLLM integrations, which we term ``LLM components''. To gain a clear\\nunderstanding of an application's architecture, we examine each LLM component\\nseparately. We identify thirteen dimensions along which to characterize an LLM\\ncomponent, including the LLM skills leveraged, the format of the output, and\\nmore. LLM-integrated applications are described as combinations of their LLM\\ncomponents. We suggest a concise representation using feature vectors for\\nvisualization.\\n  The taxonomy is effective for describing LLM-integrated applications. It can\\ncontribute to theory building in the nascent field of LLM-integrated\\napplication engineering and aid in developing such systems. Researchers and\\npractitioners explore numerous creative ways to leverage LLMs in applications.\\nThough challenges persist, integrating LLMs may revolutionize the way software\\nsystems are built.\\n\\nPublished: 2024-05-30\\nTitle: Parrot: Efficient Serving of LLM-based Applications with Semantic Variable\\nAuthors: Chaofan Lin, Zhenhua Han, Chengruidong Zhang, Yuqing Yang, Fan Yang, Chen Chen, Lili Qiu\\nSummary: The rise of large language models (LLMs) has enabled LLM-based applications\\n(a.k.a. AI agents or co-pilots), a new software paradigm that combines the\\nstrength of LLM and conventional software. Diverse LLM applications from\\ndifferent tenants could design complex workflows using multiple LLM requests to\\naccomplish one task. However, they have to use the over-simplified\\nrequest-level API provided by today's public LLM services, losing essential\\napplication-level information. Public LLM services have to blindly optimize\\nindividual LLM requests, leading to sub-optimal end-to-end performance of LLM\\napplications.\\n  This paper introduces Parrot, an LLM service system that focuses on the\\nend-to-end experience of \", name='arxiv', tool_call_id='saNpizPOq')]\n",
      "\u001b[36;1m\u001b[1;3m[2:checkpoint]\u001b[0m \u001b[1mState at the end of step 2:\n",
      "\u001b[0m{'messages': [HumanMessage(content=\"please give me the price of madeupcompany's cloudmate professional and the latest arxiv paper on the topic of LLM's. If the information is not available use the search tool to access online resources\", additional_kwargs={}, response_metadata={}, id='4c51c344-79db-4983-9b6d-a7e452abc2c9'),\n",
      "              AIMessage(content='', additional_kwargs={'tool_calls': [{'id': '7g3OWz071', 'type': 'function', 'function': {'name': 'retrieve_company_information', 'arguments': '{\"query\": \"price of madeupcompany\\'s cloudmate professional\"}'}}, {'id': 'saNpizPOq', 'type': 'function', 'function': {'name': 'arxiv', 'arguments': '{\"query\": \"LLM\"}'}}]}, response_metadata={'token_usage': {'completion_tokens': 53, 'prompt_tokens': 670, 'total_tokens': 723}, 'model_name': 'mistralai/mistral-large', 'system_fingerprint': '', 'finish_reason': 'tool_calls'}, id='chatcmpl-17a5376045c7f99b02a80c992ca6acee', tool_calls=[{'name': 'retrieve_company_information', 'args': {'query': \"price of madeupcompany's cloudmate professional\"}, 'id': '7g3OWz071', 'type': 'tool_call'}, {'name': 'arxiv', 'args': {'query': 'LLM'}, 'id': 'saNpizPOq', 'type': 'tool_call'}], usage_metadata={'input_tokens': 670, 'output_tokens': 53, 'total_tokens': 723}),\n",
      "              ToolMessage(content='[About MadeUpCompany/Pricing]: \\nWe offer flexible pricing plans to meet the needs of individuals, small businesses, and large enterprises.\\n\\n[About MadeUpCompany]: \\nMadeUpCompany is a pioneering technology firm founded in 2010, specializing in cloud computing, data analytics, and machine learning. Headquartered in San Francisco, California, we have a global presence with satellite offices in New York, London, and Tokyo. Our mission is to empower businesses and individuals with cutting-edge technology that enhances efficiency, scalability, and innovation.  \\nWith a diverse team of experts from various industries—including AI research, cybersecurity, and enterprise software development—we push the boundaries of what’s possible. Our commitment to continuous improvement, security, and customer success has earned us recognition as a leader in the tech space.\\n\\n[About MadeUpCompany/Pricing/CloudMate Plans]: \\nOur secure and scalable cloud storage service, CloudMate, is available in the following plans:\\n- Basic: $9.99/month – 100GB storage, essential security features\\n- Professional: $29.99/month – 1TB storage, enhanced security, priority support\\n- Enterprise: Custom pricing – Unlimited storage, advanced compliance tools, dedicated account manager', name='retrieve_company_information', id='58238d14-b419-4fcb-9e9a-77ad0063fea5', tool_call_id='7g3OWz071'),\n",
      "              ToolMessage(content=\"Published: 2024-12-23\\nTitle: Trustworthy and Efficient LLMs Meet Databases\\nAuthors: Kyoungmin Kim, Anastasia Ailamaki\\nSummary: In the rapidly evolving AI era with large language models (LLMs) at the core,\\nmaking LLMs more trustworthy and efficient, especially in output generation\\n(inference), has gained significant attention. This is to reduce plausible but\\nfaulty LLM outputs (a.k.a hallucinations) and meet the highly increased\\ninference demands. This tutorial explores such efforts and makes them\\ntransparent to the database community. Understanding these efforts is essential\\nin harnessing LLMs in database tasks and adapting database techniques to LLMs.\\nFurthermore, we delve into the synergy between LLMs and databases, highlighting\\nnew opportunities and challenges in their intersection. This tutorial aims to\\nshare with database researchers and practitioners essential concepts and\\nstrategies around LLMs, reduce the unfamiliarity of LLMs, and inspire joining\\nin the intersection between LLMs and databases.\\n\\nPublished: 2024-06-13\\nTitle: Large Language Models as Software Components: A Taxonomy for LLM-Integrated Applications\\nAuthors: Irene Weber\\nSummary: Large Language Models (LLMs) have become widely adopted recently. Research\\nexplores their use both as autonomous agents and as tools for software\\nengineering. LLM-integrated applications, on the other hand, are software\\nsystems that leverage an LLM to perform tasks that would otherwise be\\nimpossible or require significant coding effort. While LLM-integrated\\napplication engineering is emerging as new discipline, its terminology,\\nconcepts and methods need to be established. This study provides a taxonomy for\\nLLM-integrated applications, offering a framework for analyzing and describing\\nthese systems. It also demonstrates various ways to utilize LLMs in\\napplications, as well as options for implementing such integrations.\\n  Following established methods, we analyze a sample of recent LLM-integrated\\napplications to identify relevant dimensions. We evaluate the taxonomy by\\napplying it to additional cases. This review shows that applications integrate\\nLLMs in numerous ways for various purposes. Frequently, they comprise multiple\\nLLM integrations, which we term ``LLM components''. To gain a clear\\nunderstanding of an application's architecture, we examine each LLM component\\nseparately. We identify thirteen dimensions along which to characterize an LLM\\ncomponent, including the LLM skills leveraged, the format of the output, and\\nmore. LLM-integrated applications are described as combinations of their LLM\\ncomponents. We suggest a concise representation using feature vectors for\\nvisualization.\\n  The taxonomy is effective for describing LLM-integrated applications. It can\\ncontribute to theory building in the nascent field of LLM-integrated\\napplication engineering and aid in developing such systems. Researchers and\\npractitioners explore numerous creative ways to leverage LLMs in applications.\\nThough challenges persist, integrating LLMs may revolutionize the way software\\nsystems are built.\\n\\nPublished: 2024-05-30\\nTitle: Parrot: Efficient Serving of LLM-based Applications with Semantic Variable\\nAuthors: Chaofan Lin, Zhenhua Han, Chengruidong Zhang, Yuqing Yang, Fan Yang, Chen Chen, Lili Qiu\\nSummary: The rise of large language models (LLMs) has enabled LLM-based applications\\n(a.k.a. AI agents or co-pilots), a new software paradigm that combines the\\nstrength of LLM and conventional software. Diverse LLM applications from\\ndifferent tenants could design complex workflows using multiple LLM requests to\\naccomplish one task. However, they have to use the over-simplified\\nrequest-level API provided by today's public LLM services, losing essential\\napplication-level information. Public LLM services have to blindly optimize\\nindividual LLM requests, leading to sub-optimal end-to-end performance of LLM\\napplications.\\n  This paper introduces Parrot, an LLM service system that focuses on the\\nend-to-end experience of \", name='arxiv', id='900afde9-768c-45dc-89e3-d0cc973bfedb', tool_call_id='saNpizPOq')]}\n",
      "\u001b[36;1m\u001b[1;3m[3:tasks]\u001b[0m \u001b[1mStarting 1 task for step 3:\n",
      "\u001b[0m- \u001b[32;1m\u001b[1;3magent\u001b[0m -> {'is_last_step': False,\n",
      " 'messages': [HumanMessage(content=\"please give me the price of madeupcompany's cloudmate professional and the latest arxiv paper on the topic of LLM's. If the information is not available use the search tool to access online resources\", additional_kwargs={}, response_metadata={}, id='4c51c344-79db-4983-9b6d-a7e452abc2c9'),\n",
      "              AIMessage(content='', additional_kwargs={'tool_calls': [{'id': '7g3OWz071', 'type': 'function', 'function': {'name': 'retrieve_company_information', 'arguments': '{\"query\": \"price of madeupcompany\\'s cloudmate professional\"}'}}, {'id': 'saNpizPOq', 'type': 'function', 'function': {'name': 'arxiv', 'arguments': '{\"query\": \"LLM\"}'}}]}, response_metadata={'token_usage': {'completion_tokens': 53, 'prompt_tokens': 670, 'total_tokens': 723}, 'model_name': 'mistralai/mistral-large', 'system_fingerprint': '', 'finish_reason': 'tool_calls'}, id='chatcmpl-17a5376045c7f99b02a80c992ca6acee', tool_calls=[{'name': 'retrieve_company_information', 'args': {'query': \"price of madeupcompany's cloudmate professional\"}, 'id': '7g3OWz071', 'type': 'tool_call'}, {'name': 'arxiv', 'args': {'query': 'LLM'}, 'id': 'saNpizPOq', 'type': 'tool_call'}], usage_metadata={'input_tokens': 670, 'output_tokens': 53, 'total_tokens': 723}),\n",
      "              ToolMessage(content='[About MadeUpCompany/Pricing]: \\nWe offer flexible pricing plans to meet the needs of individuals, small businesses, and large enterprises.\\n\\n[About MadeUpCompany]: \\nMadeUpCompany is a pioneering technology firm founded in 2010, specializing in cloud computing, data analytics, and machine learning. Headquartered in San Francisco, California, we have a global presence with satellite offices in New York, London, and Tokyo. Our mission is to empower businesses and individuals with cutting-edge technology that enhances efficiency, scalability, and innovation.  \\nWith a diverse team of experts from various industries—including AI research, cybersecurity, and enterprise software development—we push the boundaries of what’s possible. Our commitment to continuous improvement, security, and customer success has earned us recognition as a leader in the tech space.\\n\\n[About MadeUpCompany/Pricing/CloudMate Plans]: \\nOur secure and scalable cloud storage service, CloudMate, is available in the following plans:\\n- Basic: $9.99/month – 100GB storage, essential security features\\n- Professional: $29.99/month – 1TB storage, enhanced security, priority support\\n- Enterprise: Custom pricing – Unlimited storage, advanced compliance tools, dedicated account manager', name='retrieve_company_information', id='58238d14-b419-4fcb-9e9a-77ad0063fea5', tool_call_id='7g3OWz071'),\n",
      "              ToolMessage(content=\"Published: 2024-12-23\\nTitle: Trustworthy and Efficient LLMs Meet Databases\\nAuthors: Kyoungmin Kim, Anastasia Ailamaki\\nSummary: In the rapidly evolving AI era with large language models (LLMs) at the core,\\nmaking LLMs more trustworthy and efficient, especially in output generation\\n(inference), has gained significant attention. This is to reduce plausible but\\nfaulty LLM outputs (a.k.a hallucinations) and meet the highly increased\\ninference demands. This tutorial explores such efforts and makes them\\ntransparent to the database community. Understanding these efforts is essential\\nin harnessing LLMs in database tasks and adapting database techniques to LLMs.\\nFurthermore, we delve into the synergy between LLMs and databases, highlighting\\nnew opportunities and challenges in their intersection. This tutorial aims to\\nshare with database researchers and practitioners essential concepts and\\nstrategies around LLMs, reduce the unfamiliarity of LLMs, and inspire joining\\nin the intersection between LLMs and databases.\\n\\nPublished: 2024-06-13\\nTitle: Large Language Models as Software Components: A Taxonomy for LLM-Integrated Applications\\nAuthors: Irene Weber\\nSummary: Large Language Models (LLMs) have become widely adopted recently. Research\\nexplores their use both as autonomous agents and as tools for software\\nengineering. LLM-integrated applications, on the other hand, are software\\nsystems that leverage an LLM to perform tasks that would otherwise be\\nimpossible or require significant coding effort. While LLM-integrated\\napplication engineering is emerging as new discipline, its terminology,\\nconcepts and methods need to be established. This study provides a taxonomy for\\nLLM-integrated applications, offering a framework for analyzing and describing\\nthese systems. It also demonstrates various ways to utilize LLMs in\\napplications, as well as options for implementing such integrations.\\n  Following established methods, we analyze a sample of recent LLM-integrated\\napplications to identify relevant dimensions. We evaluate the taxonomy by\\napplying it to additional cases. This review shows that applications integrate\\nLLMs in numerous ways for various purposes. Frequently, they comprise multiple\\nLLM integrations, which we term ``LLM components''. To gain a clear\\nunderstanding of an application's architecture, we examine each LLM component\\nseparately. We identify thirteen dimensions along which to characterize an LLM\\ncomponent, including the LLM skills leveraged, the format of the output, and\\nmore. LLM-integrated applications are described as combinations of their LLM\\ncomponents. We suggest a concise representation using feature vectors for\\nvisualization.\\n  The taxonomy is effective for describing LLM-integrated applications. It can\\ncontribute to theory building in the nascent field of LLM-integrated\\napplication engineering and aid in developing such systems. Researchers and\\npractitioners explore numerous creative ways to leverage LLMs in applications.\\nThough challenges persist, integrating LLMs may revolutionize the way software\\nsystems are built.\\n\\nPublished: 2024-05-30\\nTitle: Parrot: Efficient Serving of LLM-based Applications with Semantic Variable\\nAuthors: Chaofan Lin, Zhenhua Han, Chengruidong Zhang, Yuqing Yang, Fan Yang, Chen Chen, Lili Qiu\\nSummary: The rise of large language models (LLMs) has enabled LLM-based applications\\n(a.k.a. AI agents or co-pilots), a new software paradigm that combines the\\nstrength of LLM and conventional software. Diverse LLM applications from\\ndifferent tenants could design complex workflows using multiple LLM requests to\\naccomplish one task. However, they have to use the over-simplified\\nrequest-level API provided by today's public LLM services, losing essential\\napplication-level information. Public LLM services have to blindly optimize\\nindividual LLM requests, leading to sub-optimal end-to-end performance of LLM\\napplications.\\n  This paper introduces Parrot, an LLM service system that focuses on the\\nend-to-end experience of \", name='arxiv', id='900afde9-768c-45dc-89e3-d0cc973bfedb', tool_call_id='saNpizPOq')],\n",
      " 'remaining_steps': 22}\n",
      "\u001b[36;1m\u001b[1;3m[3:writes]\u001b[0m \u001b[1mFinished step 3 with writes to 1 channel:\n",
      "\u001b[0m- \u001b[33;1m\u001b[1;3mmessages\u001b[0m -> [AIMessage(content=' Our secure and scalable cloud storage service, CloudMate, is available in the following plans:\\n- Basic: $9.99/month – 100GB storage, essential security features\\n- Professional: $29.99/month – 1TB storage, enhanced security, priority support\\n- Enterprise: Custom pricing – Unlimited storage, advanced compliance tools, dedicated account manager.\\n\\nHere are three of the latest publications from the provided search:\\n\\n---\\n\\n**Title:** Trustworthy and Efficient LLMs Meet Databases\\n**Authors:** Kyoungmin Kim, Anastasia Ailamaki\\n**Published:** 2024-12-23\\n**Summary:** This tutorial explores efforts to make LLMs more trustworthy and efficient, especially in output generation (inference), to reduce hallucinations and meet increased inference demands. It also delves into the synergy between LLMs and databases, highlighting new opportunities and challenges in their intersection.\\n\\n**Title:** Large Language Models as Software Components: A Taxonomy for LLM-Integrated Applications\\n**Authors:** Irene Weber\\n**Published:** 2024-06-13\\n**Summary:** This study provides a taxonomy for LLM-integrated applications, offering a framework for analyzing and describing these systems. It identifies dimensions along which to characterize LLM components, including the LLM skills leveraged and the format of the output.\\n\\n**Title:** Parrot: Efficient Serving of LLM-based Applications with Semantic Variables\\n**Authors:** Chaofan Lin, Zhenhua Han, et al.\\n**Published:** 2024-05-30\\n**Summary:** This paper introduces Parrot, an LLM service system that focuses on the end-to-end experience of LLM applications. It allows for the design of complex workflows using multiple LLM requests, aiming to optimize overall performance and user experience.\\n\\nThese papers offer insights into various aspects of LLMs, from their integration into software systems to their synergy with databases and efficient serving.', additional_kwargs={}, response_metadata={'token_usage': {'completion_tokens': 471, 'prompt_tokens': 2038, 'total_tokens': 2509}, 'model_name': 'mistralai/mistral-large', 'system_fingerprint': '', 'finish_reason': 'stop'}, id='chatcmpl-d3423ada200f1139236102fc205c3ef3', usage_metadata={'input_tokens': 2038, 'output_tokens': 471, 'total_tokens': 2509})]\n",
      "\u001b[36;1m\u001b[1;3m[3:checkpoint]\u001b[0m \u001b[1mState at the end of step 3:\n",
      "\u001b[0m{'messages': [HumanMessage(content=\"please give me the price of madeupcompany's cloudmate professional and the latest arxiv paper on the topic of LLM's. If the information is not available use the search tool to access online resources\", additional_kwargs={}, response_metadata={}, id='4c51c344-79db-4983-9b6d-a7e452abc2c9'),\n",
      "              AIMessage(content='', additional_kwargs={'tool_calls': [{'id': '7g3OWz071', 'type': 'function', 'function': {'name': 'retrieve_company_information', 'arguments': '{\"query\": \"price of madeupcompany\\'s cloudmate professional\"}'}}, {'id': 'saNpizPOq', 'type': 'function', 'function': {'name': 'arxiv', 'arguments': '{\"query\": \"LLM\"}'}}]}, response_metadata={'token_usage': {'completion_tokens': 53, 'prompt_tokens': 670, 'total_tokens': 723}, 'model_name': 'mistralai/mistral-large', 'system_fingerprint': '', 'finish_reason': 'tool_calls'}, id='chatcmpl-17a5376045c7f99b02a80c992ca6acee', tool_calls=[{'name': 'retrieve_company_information', 'args': {'query': \"price of madeupcompany's cloudmate professional\"}, 'id': '7g3OWz071', 'type': 'tool_call'}, {'name': 'arxiv', 'args': {'query': 'LLM'}, 'id': 'saNpizPOq', 'type': 'tool_call'}], usage_metadata={'input_tokens': 670, 'output_tokens': 53, 'total_tokens': 723}),\n",
      "              ToolMessage(content='[About MadeUpCompany/Pricing]: \\nWe offer flexible pricing plans to meet the needs of individuals, small businesses, and large enterprises.\\n\\n[About MadeUpCompany]: \\nMadeUpCompany is a pioneering technology firm founded in 2010, specializing in cloud computing, data analytics, and machine learning. Headquartered in San Francisco, California, we have a global presence with satellite offices in New York, London, and Tokyo. Our mission is to empower businesses and individuals with cutting-edge technology that enhances efficiency, scalability, and innovation.  \\nWith a diverse team of experts from various industries—including AI research, cybersecurity, and enterprise software development—we push the boundaries of what’s possible. Our commitment to continuous improvement, security, and customer success has earned us recognition as a leader in the tech space.\\n\\n[About MadeUpCompany/Pricing/CloudMate Plans]: \\nOur secure and scalable cloud storage service, CloudMate, is available in the following plans:\\n- Basic: $9.99/month – 100GB storage, essential security features\\n- Professional: $29.99/month – 1TB storage, enhanced security, priority support\\n- Enterprise: Custom pricing – Unlimited storage, advanced compliance tools, dedicated account manager', name='retrieve_company_information', id='58238d14-b419-4fcb-9e9a-77ad0063fea5', tool_call_id='7g3OWz071'),\n",
      "              ToolMessage(content=\"Published: 2024-12-23\\nTitle: Trustworthy and Efficient LLMs Meet Databases\\nAuthors: Kyoungmin Kim, Anastasia Ailamaki\\nSummary: In the rapidly evolving AI era with large language models (LLMs) at the core,\\nmaking LLMs more trustworthy and efficient, especially in output generation\\n(inference), has gained significant attention. This is to reduce plausible but\\nfaulty LLM outputs (a.k.a hallucinations) and meet the highly increased\\ninference demands. This tutorial explores such efforts and makes them\\ntransparent to the database community. Understanding these efforts is essential\\nin harnessing LLMs in database tasks and adapting database techniques to LLMs.\\nFurthermore, we delve into the synergy between LLMs and databases, highlighting\\nnew opportunities and challenges in their intersection. This tutorial aims to\\nshare with database researchers and practitioners essential concepts and\\nstrategies around LLMs, reduce the unfamiliarity of LLMs, and inspire joining\\nin the intersection between LLMs and databases.\\n\\nPublished: 2024-06-13\\nTitle: Large Language Models as Software Components: A Taxonomy for LLM-Integrated Applications\\nAuthors: Irene Weber\\nSummary: Large Language Models (LLMs) have become widely adopted recently. Research\\nexplores their use both as autonomous agents and as tools for software\\nengineering. LLM-integrated applications, on the other hand, are software\\nsystems that leverage an LLM to perform tasks that would otherwise be\\nimpossible or require significant coding effort. While LLM-integrated\\napplication engineering is emerging as new discipline, its terminology,\\nconcepts and methods need to be established. This study provides a taxonomy for\\nLLM-integrated applications, offering a framework for analyzing and describing\\nthese systems. It also demonstrates various ways to utilize LLMs in\\napplications, as well as options for implementing such integrations.\\n  Following established methods, we analyze a sample of recent LLM-integrated\\napplications to identify relevant dimensions. We evaluate the taxonomy by\\napplying it to additional cases. This review shows that applications integrate\\nLLMs in numerous ways for various purposes. Frequently, they comprise multiple\\nLLM integrations, which we term ``LLM components''. To gain a clear\\nunderstanding of an application's architecture, we examine each LLM component\\nseparately. We identify thirteen dimensions along which to characterize an LLM\\ncomponent, including the LLM skills leveraged, the format of the output, and\\nmore. LLM-integrated applications are described as combinations of their LLM\\ncomponents. We suggest a concise representation using feature vectors for\\nvisualization.\\n  The taxonomy is effective for describing LLM-integrated applications. It can\\ncontribute to theory building in the nascent field of LLM-integrated\\napplication engineering and aid in developing such systems. Researchers and\\npractitioners explore numerous creative ways to leverage LLMs in applications.\\nThough challenges persist, integrating LLMs may revolutionize the way software\\nsystems are built.\\n\\nPublished: 2024-05-30\\nTitle: Parrot: Efficient Serving of LLM-based Applications with Semantic Variable\\nAuthors: Chaofan Lin, Zhenhua Han, Chengruidong Zhang, Yuqing Yang, Fan Yang, Chen Chen, Lili Qiu\\nSummary: The rise of large language models (LLMs) has enabled LLM-based applications\\n(a.k.a. AI agents or co-pilots), a new software paradigm that combines the\\nstrength of LLM and conventional software. Diverse LLM applications from\\ndifferent tenants could design complex workflows using multiple LLM requests to\\naccomplish one task. However, they have to use the over-simplified\\nrequest-level API provided by today's public LLM services, losing essential\\napplication-level information. Public LLM services have to blindly optimize\\nindividual LLM requests, leading to sub-optimal end-to-end performance of LLM\\napplications.\\n  This paper introduces Parrot, an LLM service system that focuses on the\\nend-to-end experience of \", name='arxiv', id='900afde9-768c-45dc-89e3-d0cc973bfedb', tool_call_id='saNpizPOq'),\n",
      "              AIMessage(content=' Our secure and scalable cloud storage service, CloudMate, is available in the following plans:\\n- Basic: $9.99/month – 100GB storage, essential security features\\n- Professional: $29.99/month – 1TB storage, enhanced security, priority support\\n- Enterprise: Custom pricing – Unlimited storage, advanced compliance tools, dedicated account manager.\\n\\nHere are three of the latest publications from the provided search:\\n\\n---\\n\\n**Title:** Trustworthy and Efficient LLMs Meet Databases\\n**Authors:** Kyoungmin Kim, Anastasia Ailamaki\\n**Published:** 2024-12-23\\n**Summary:** This tutorial explores efforts to make LLMs more trustworthy and efficient, especially in output generation (inference), to reduce hallucinations and meet increased inference demands. It also delves into the synergy between LLMs and databases, highlighting new opportunities and challenges in their intersection.\\n\\n**Title:** Large Language Models as Software Components: A Taxonomy for LLM-Integrated Applications\\n**Authors:** Irene Weber\\n**Published:** 2024-06-13\\n**Summary:** This study provides a taxonomy for LLM-integrated applications, offering a framework for analyzing and describing these systems. It identifies dimensions along which to characterize LLM components, including the LLM skills leveraged and the format of the output.\\n\\n**Title:** Parrot: Efficient Serving of LLM-based Applications with Semantic Variables\\n**Authors:** Chaofan Lin, Zhenhua Han, et al.\\n**Published:** 2024-05-30\\n**Summary:** This paper introduces Parrot, an LLM service system that focuses on the end-to-end experience of LLM applications. It allows for the design of complex workflows using multiple LLM requests, aiming to optimize overall performance and user experience.\\n\\nThese papers offer insights into various aspects of LLMs, from their integration into software systems to their synergy with databases and efficient serving.', additional_kwargs={}, response_metadata={'token_usage': {'completion_tokens': 471, 'prompt_tokens': 2038, 'total_tokens': 2509}, 'model_name': 'mistralai/mistral-large', 'system_fingerprint': '', 'finish_reason': 'stop'}, id='chatcmpl-d3423ada200f1139236102fc205c3ef3', usage_metadata={'input_tokens': 2038, 'output_tokens': 471, 'total_tokens': 2509})]}\n"
     ]
    }
   ],
   "source": [
    "response = graph.invoke(\n",
    "    {\n",
    "        \"messages\": [\n",
    "            (\n",
    "                \"user\", \"please give me the price of madeupcompany's cloudmate professional and the latest arxiv paper on the topic of LLM's. If the information is not available use the search tool to access online resources\"\n",
    "            )\n",
    "        ],\n",
    "    },\n",
    "    debug=True,\n",
    "    \n",
    ")"
   ]
  },
  {
   "cell_type": "code",
   "execution_count": 22,
   "metadata": {},
   "outputs": [
    {
     "data": {
      "text/plain": [
       "' Our secure and scalable cloud storage service, CloudMate, is available in the following plans:\\n- Basic: $9.99/month – 100GB storage, essential security features\\n- Professional: $29.99/month – 1TB storage, enhanced security, priority support\\n- Enterprise: Custom pricing – Unlimited storage, advanced compliance tools, dedicated account manager.\\n\\nHere are three of the latest publications from the provided search:\\n\\n---\\n\\n**Title:** Trustworthy and Efficient LLMs Meet Databases\\n**Authors:** Kyoungmin Kim, Anastasia Ailamaki\\n**Published:** 2024-12-23\\n**Summary:** This tutorial explores efforts to make LLMs more trustworthy and efficient, especially in output generation (inference), to reduce hallucinations and meet increased inference demands. It also delves into the synergy between LLMs and databases, highlighting new opportunities and challenges in their intersection.\\n\\n**Title:** Large Language Models as Software Components: A Taxonomy for LLM-Integrated Applications\\n**Authors:** Irene Weber\\n**Published:** 2024-06-13\\n**Summary:** This study provides a taxonomy for LLM-integrated applications, offering a framework for analyzing and describing these systems. It identifies dimensions along which to characterize LLM components, including the LLM skills leveraged and the format of the output.\\n\\n**Title:** Parrot: Efficient Serving of LLM-based Applications with Semantic Variables\\n**Authors:** Chaofan Lin, Zhenhua Han, et al.\\n**Published:** 2024-05-30\\n**Summary:** This paper introduces Parrot, an LLM service system that focuses on the end-to-end experience of LLM applications. It allows for the design of complex workflows using multiple LLM requests, aiming to optimize overall performance and user experience.\\n\\nThese papers offer insights into various aspects of LLMs, from their integration into software systems to their synergy with databases and efficient serving.'"
      ]
     },
     "execution_count": 22,
     "metadata": {},
     "output_type": "execute_result"
    }
   ],
   "source": [
    "response[\"messages\"][-1].content"
   ]
  },
  {
   "cell_type": "markdown",
   "metadata": {},
   "source": [
    "As seen above the tool for Arxiv was implemented and tested, in the above promt the Agent does very well at disticting between different tasks and which tools are best suited for each task, delpoys the tool, and outputs the nessesary information.\n",
    "\n",
    "nessesary tweaks could be lesss max_token_outpu as the responses sometimes became lesss and less relevant as you read through them. "
   ]
  }
 ],
 "metadata": {
  "kernelspec": {
   "display_name": "aiml25-ma3",
   "language": "python",
   "name": "python3"
  },
  "language_info": {
   "codemirror_mode": {
    "name": "ipython",
    "version": 3
   },
   "file_extension": ".py",
   "mimetype": "text/x-python",
   "name": "python",
   "nbconvert_exporter": "python",
   "pygments_lexer": "ipython3",
   "version": "3.11.12"
  }
 },
 "nbformat": 4,
 "nbformat_minor": 2
}

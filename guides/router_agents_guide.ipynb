{
 "cells": [
  {
   "cell_type": "markdown",
   "metadata": {},
   "source": [
    "**AI & Machine Learning (KAN-CINTO4003U) - Copenhagen Business School | Spring 2025**\n",
    "\n",
    "***"
   ]
  },
  {
   "cell_type": "markdown",
   "metadata": {},
   "source": [
    "\n",
    "<p align=\"center\">\n",
    "<img src=\"media/agents_header.png\" alt=\"LLM\" width=\"800\"/> <br>\n",
    "Image from TrueFoundry's \"<i><a href=\"https://www.truefoundry.com/blog/llm-agents\">What are LLM Agents?</a></i>\". <br>Copyright © 2025. All rights reserved.\n",
    "</p>\n",
    "\n",
    "***\n",
    "Sources: <br>\n",
    "- [What are LLM Agents? (TrueFoundry)](https://www.truefoundry.com/blog/llm-agents)\n",
    "- [What is an AI Agent? (LangChain)](https://blog.langchain.dev/what-is-an-agent/)\n",
    "\n",
    "\n",
    "# LLM agents\n",
    "\n",
    "Think about how we have used LLMs so far: We have given an LLM a single task. It's easy to consider that we could *chain* these tasks together to create a more complex system. For example, we could ask a language model to generate a summary of a text, and then - in a separate step - ask it to classify the sentiment of the summary. This is what we call *chaining* of LLM tasks. In chains, a sequence of actions is hardcoded (in code). In agents, a language model is used as a *reasoning engine* to determine which actions to take and in which order. In other words, an AI agent is a system that uses an LLM to decide the control flow of an application, instead of having it hardcoded. \n",
    "\n",
    "An LLM Agent will\n",
    "\n",
    "1. Receive a sensory input (e.g. a text)\n",
    "2. Decide what to do with it\n",
    "3. Take an action (e.g. generate a summary)\n",
    "\n",
    "Let's think about the implications of this for a moment. If we can get an LLM to consider a task and then decide for itself how best to solve it, we are approaching a very human-like way of thinking.\n",
    "\n",
    "### What does it mean to be agentic?\n",
    "\n",
    "<p align=\"center\">\n",
    "<img src=\"media/levels-of-agentic.png\" alt=\"LLM\" width=\"800\"/> <br>\n",
    "Image from LangChain's \"<i><a href=\"https://blog.langchain.dev/what-is-an-agent/\">What is an AI agent?</a></i>\" by Harrison Chase, CEO of LangChain AI. <br>Copyright © 2025. All rights reserved.\n",
    "</p>\n",
    "\n",
    "According to Harisson Chase, a system is more “agentic” the more an LLM decides how the system can behave.\n",
    "\n",
    "| Level of Agentic Behavior                                                                 | Description                                                                                                                                                     |\n",
    "|------------------------------------------------------------------------------------------|-----------------------------------------------------------------------------------------------------------------------------------------------------------------|\n",
    "| Router                                                                                   | Using an LLM to route inputs into a particular downstream workflow has some small amount of “agentic” behavior. This would fall into the `Router` category.       |\n",
    "| Between Router and State Machine                                                        | If you use multiple LLMs to do multiple routing steps, this would be somewhere between `Router` and `State Machine`.                                                |\n",
    "| State Machine                                                                            | If one of those steps is determining whether to continue or finish - effectively allowing the system to run in a loop until finished, it would fall into this category. |\n",
    "| Autonomous Agent                                                                         | If the system is building tools, remembering those, and then taking those in future steps, it is incredibly agentic, similar to what the [Voyager paper](https://arxiv.org/abs/2305.16291) implemented. |\n",
    "\n",
    "### Agents as graph-based systems\n",
    "\n",
    "<p align=\"center\">\n",
    "<img src=\"media/graph.png\" alt=\"LLM\" width=\"800\"/> <br>\n",
    "Image from Ionio \"<i><a href=\"https://www.ionio.ai/blog/a-comprehensive-guide-about-langgraph-code-included\">A Comprehensive Guide About Langgraph</a></i>\". <br>by Shivam Danawale and Pranav Patel<br>\n",
    "Copyright © 2025. All rights reserved.\n",
    "</p>\n",
    "\n",
    "Following the image above, we see that the workflow is triggered by an input from a user. Next, we hit the first node, likely an LLM. This LLM provides an output - not back to the user but to the next nodes, routed via *conditional edges*. In other words, the LLM (our the output of the latest LLM node) will determine which route we will take to answer the query - or carry out the associated task. We can repeat this process for downstream nodes. Eventually, we will end in an *END* node - or we might even return to the first node again and start over!\n",
    "\n",
    "***\n",
    "\n",
    "### Agents in LangGraph\n",
    "\n",
    "We will be using *LangGraph* to create a simple `router` agent system in this notebook. [LangGraph](https://langchain-ai.github.io/langgraph/) is a graph-based system that allows us to create complex workflows using LLMs. A couple of key concepts in LangGraph are:\n",
    "\n",
    "| Concept  | Description |\n",
    "|---------------| ------|\n",
    "| **State**     | State is the central concept in LangGraph. It represents all the information that flows through your application. |\n",
    "| **Node**      | A node is a single unit of computation - just like neurons in neural networks. In LangGraph, nodes are Python functions. For example, Nodes can contain LLM calls (Generate text or make decisions), Tool calls (Interact with external systems), Conditional logic (Determine next steps), Human intervention (Get input from users). Some nodes necessary for the whole workflow like `START` and `END` exist from LangGraph directly. |\n",
    "| **Edges**     | Edges connect nodes and define the possible paths through your graph. |\n",
    "| **StateGraph**| The StateGraph is the container that holds your entire agent workflow. |\n",
    "\n",
    "LangChain has released an excellent [introduction to these concepts here](https://huggingface.co/learn/agents-course/unit2/langgraph/building_blocks)\n",
    "\n",
    "\n",
    "\n",
    "\n",
    "\n"
   ]
  },
  {
   "cell_type": "markdown",
   "metadata": {},
   "source": [
    "### Setup\n",
    "\n",
    "In this notebook, we will be using *LangGraph* to create a simple `router` agent system. LangGraph is a graph-based system that allows us to create complex workflows using LLMs. "
   ]
  },
  {
   "cell_type": "code",
   "execution_count": 1,
   "metadata": {},
   "outputs": [],
   "source": [
    "# built-in libraries\n",
    "from typing import Literal, TypedDict,  Any, Optional\n",
    "\n",
    "# langgraph libraries\n",
    "from langgraph.graph import StateGraph, START, END\n",
    "from langchain_core.runnables.graph import  MermaidDrawMethod\n",
    "\n",
    "# misc libraries\n",
    "from pydantic import Field\n",
    "from IPython.display import Image\n",
    "from decouple import config\n",
    "from ibm_watsonx_ai.metanames import GenTextParamsMetaNames as GenParams\n",
    "from tqdm import tqdm\n",
    "from sklearn.metrics import f1_score\n",
    "\n",
    "# local modules\n",
    "from src.llm import LLMCaller"
   ]
  },
  {
   "cell_type": "markdown",
   "metadata": {},
   "source": [
    "Let's start by loading our WatsonX.ai credentials again"
   ]
  },
  {
   "cell_type": "code",
   "execution_count": 8,
   "metadata": {},
   "outputs": [],
   "source": [
    "WX_API_KEY = config(\"WX_API_KEY\")\n",
    "WX_PROJECT_ID = config(\"WX_PROJECT_ID\")\n",
    "WX_API_URL = \"https://us-south.ml.cloud.ibm.com\""
   ]
  },
  {
   "cell_type": "markdown",
   "metadata": {},
   "source": [
    "We can call out neat `LLMCaller` class, defined in `src/llm.py::LLMCaller`, to use `litellm` and `instructor` in a single class. Please check out [guides/instructor_guide.ipynb](instructor_guide.ipynb) for more information on how to use this class."
   ]
  },
  {
   "cell_type": "code",
   "execution_count": 9,
   "metadata": {},
   "outputs": [],
   "source": [
    "model = LLMCaller(\n",
    "    api_key=WX_API_KEY,\n",
    "    project_id=WX_PROJECT_ID,\n",
    "    api_url=WX_API_URL,\n",
    "    model_id=\"watsonx/ibm/granite-3-8b-instruct\",\n",
    "    params={\n",
    "        GenParams.TEMPERATURE: 0.7,\n",
    "        GenParams.MAX_NEW_TOKENS: 300,\n",
    "    }\n",
    ")"
   ]
  },
  {
   "cell_type": "code",
   "execution_count": 10,
   "metadata": {},
   "outputs": [
    {
     "data": {
      "text/plain": [
       "BaseResponse(answer=\"Silent swimmer glides,\\nin water realm's cool embrace,\\ncission of life's tide.\")"
      ]
     },
     "execution_count": 10,
     "metadata": {},
     "output_type": "execute_result"
    }
   ],
   "source": [
    "response = model.invoke(prompt=\"Write a haiku about a fish\")\n",
    "\n",
    "response"
   ]
  },
  {
   "cell_type": "markdown",
   "metadata": {},
   "source": [
    "***"
   ]
  },
  {
   "cell_type": "markdown",
   "metadata": {},
   "source": [
    "# A simple AI agent\n",
    "\n",
    "We will build a simple `router` AI agent system: A chatbot - Mailbot, who\n",
    "\n",
    "1. Reads incoming emails\n",
    "2. Classifies them into a list of categories\n",
    "3. Decides whether they are spam or not\n",
    "4. If they are not spam, he will draft a suitable response\n",
    "5. If they are spam, he will move the email to the spam folder. "
   ]
  },
  {
   "cell_type": "markdown",
   "metadata": {},
   "source": [
    "First, we need to define our `State`. To reiterate, this is the central concept in LangGraph and represents all the information that flows through our application.\n",
    "\n",
    "All these attributes will be populated as we run the agent system."
   ]
  },
  {
   "cell_type": "code",
   "execution_count": 10,
   "metadata": {},
   "outputs": [],
   "source": [
    "class EmailState(TypedDict):\n",
    "\n",
    "    email: dict[str, Any]  # The email being processed - Contains subject, sender, body, etc.\n",
    "    email_category: Optional[str]  # Category of the email (e.g., work, personal, etc.\n",
    "    spam_reason: Optional[str]  # Reason for categorizing the email as spam\n",
    "    is_spam: Optional[bool]  # Whether the email is deemed to be spam or not\n",
    "    draft: Optional[str]  # Draft response to the email\n",
    "    verbose : bool = False  # Whether to provide verbose output"
   ]
  },
  {
   "cell_type": "markdown",
   "metadata": {},
   "source": [
    "Now let's define our *nodes* - the python functions that make up the system."
   ]
  },
  {
   "cell_type": "code",
   "execution_count": 12,
   "metadata": {},
   "outputs": [],
   "source": [
    "# Initialize our LLM\n",
    "def read_email(state: EmailState):\n",
    "    \"\"\"Mailbot reads and logs the incoming email\"\"\"\n",
    "    email = state[\"email\"]  # Extract the email from the state\n",
    "    \n",
    "    if state[\"verbose\"]:\n",
    "        print(f\"Mailbot is processing an email from {email['sender']} with subject: {email['subject']}\")\n",
    "    \n",
    "    # No state changes needed here\n",
    "    return {} # <- if we don't need to update the state, we return an empty dictionary\n",
    "\n",
    "def classify_email(state: EmailState):\n",
    "    \"\"\"Mailbot uses an LLM to determine if the email is spam or legitimate\"\"\"\n",
    "    email = state[\"email\"]  # Extract the email from the state\n",
    "    \n",
    "    # Prepare our prompt for the LLM\n",
    "    prompt = f\"\"\"Analyze this email and determine if it is spam or legitimate.\n",
    "    \n",
    "    Email:\n",
    "    From: {email['sender']}\n",
    "    Subject: {email['subject']}\n",
    "    Body: {email['body']}\n",
    "    \n",
    "    First, determine if this email is spam. If it is spam, explain why.\n",
    "    If it is legitimate, categorize it (inquiry, complaint, thank you, etc.).\n",
    "    \"\"\"\n",
    "    \n",
    "    # Create our response model\n",
    "    response_model = model.create_response_model(\n",
    "        \"EmailAnalysis\", \n",
    "        {\n",
    "            \"spam_reason\": (str, Field(description=\"The reasoning behind the decision.\")),\n",
    "            \"is_spam\": (bool, Field(description=\"Whether the email is spam.\")),\n",
    "            \"email_category\": (Literal[\"Transactional\", \"Marketing\", \"Relational\", \"Administrative\", \"Security/alert\", \"Spam\"], Field(description=\"The category of the email.\")) \n",
    "        }\n",
    "    )\n",
    "\n",
    "    # Call the LLMCaller with the prompt and response model\n",
    "    response = model.invoke(prompt, response_model=response_model)\n",
    "\n",
    "    # Extract the response data\n",
    "    is_spam = response.is_spam\n",
    "    spam_reason = response.spam_reason\n",
    "    email_category = response.email_category\n",
    "    \n",
    "    # Return state updates\n",
    "    return {\n",
    "        \"is_spam\": is_spam,\n",
    "        \"spam_reason\": spam_reason,\n",
    "        \"email_category\": email_category,\n",
    "    }\n",
    "\n",
    "def handle_spam(state: EmailState):\n",
    "    \"\"\"Mailbot discards spam email with a note\"\"\"\n",
    "\n",
    "    if state[\"verbose\"]:\n",
    "        print(f\"Mailbot has identified the email as spam. Reason: {state['spam_reason']}\")\n",
    "        print(\"The email has been moved to the spam folder.\")\n",
    "    \n",
    "    # We're done processing this email\n",
    "    return {}\n",
    "\n",
    "def draft_response(state: EmailState):\n",
    "    \"\"\"Mailbot drafts a preliminary response for legitimate emails\"\"\"\n",
    "    email = state[\"email\"]  # Extract the email from the state\n",
    "    category = state[\"email_category\"] or \"general\"  # Default to a general category if not specified\n",
    "    \n",
    "    # Prepare our prompt for the LLM\n",
    "    prompt = f\"\"\"Draft a polite preliminary response to this email.\n",
    "    \n",
    "    Email:\n",
    "    From: {email['sender']}\n",
    "    Subject: {email['subject']}\n",
    "    Body: {email['body']}\n",
    "    \n",
    "    This email has been categorized as: {category}\n",
    "    \n",
    "    Draft a brief, professional response that your employer can review and personalize before sending.\n",
    "    \"\"\"\n",
    "    \n",
    "    # Call the LLM - this time without a custom response model\n",
    "    response = model.invoke(prompt) # we can use the default response model here\n",
    "    answer = response.answer  # Extract the response from the LLM\n",
    "\n",
    "    # Return state updates\n",
    "    return {\"draft\": answer}  # add the draft response to the state\n",
    "\n",
    "def notify(state: EmailState):\n",
    "    \"\"\"Mailbot notifies its employer about the email and presents the draft response\"\"\"\n",
    "    email = state[\"email\"]  # Extract the email from the state\n",
    "    \n",
    "    if state[\"verbose\"]:\n",
    "        # some pretty printing to emulate the notification\n",
    "        print(\"\\n\" + \"=\"*50)\n",
    "        print(f\"Hi boss, you've received an email from {email['sender']}.\")\n",
    "        print(f\"Subject: {email['subject']}\")\n",
    "        print(f\"Category: {state['email_category']}\")\n",
    "        print(\"\\nI've prepared a draft response for your review:\")\n",
    "        print(\"-\"*50)\n",
    "        print(state[\"draft\"])\n",
    "        print(\"=\"*50 + \"\\n\")\n",
    "    \n",
    "    # We're done processing this email\n",
    "    return {}"
   ]
  },
  {
   "cell_type": "markdown",
   "metadata": {},
   "source": [
    "Next, let's create our *conditional edge* - the logic that decides which path to take based on the output of the LLM."
   ]
  },
  {
   "cell_type": "code",
   "execution_count": 13,
   "metadata": {},
   "outputs": [],
   "source": [
    "def route_email(state: EmailState) -> str:\n",
    "    \"\"\"Determine the next step based on spam classification\"\"\"\n",
    "    if state[\"is_spam\"]: # If the email is spam, meaning \"is_spam\" is True\n",
    "        return \"spam\" # Move to the spam handling step\n",
    "    else:\n",
    "        return \"legitimate\"  # Move to the legitimate email handling step"
   ]
  },
  {
   "cell_type": "markdown",
   "metadata": {},
   "source": [
    "Now we have our `State` and our `nodes`, we need our edges - the connections between the nodes that define the possible paths through our graph.\n",
    "\n",
    "First, we can create our `StateGraph` - the container that holds our entire agent workflow. Then we add nodes and edges to it."
   ]
  },
  {
   "cell_type": "code",
   "execution_count": 14,
   "metadata": {},
   "outputs": [
    {
     "data": {
      "text/plain": [
       "<langgraph.graph.state.StateGraph at 0x2357ea1ae10>"
      ]
     },
     "execution_count": 14,
     "metadata": {},
     "output_type": "execute_result"
    }
   ],
   "source": [
    "# Create the graph\n",
    "email_graph = StateGraph(EmailState)  # Initialize the graph with the EmailState state\n",
    "\n",
    "# Add nodes\n",
    "email_graph.add_node(\"read email\", read_email)  # Add the read_email node\n",
    "email_graph.add_node(\"classify email\", classify_email)  # Add the classify_email node\n",
    "email_graph.add_node(\"handle spam\", handle_spam)  # Add the handle_spam node\n",
    "email_graph.add_node(\"draft response\", draft_response)  # Add the draft_response node\n",
    "email_graph.add_node(\"notify\", notify)  # Add the notify node"
   ]
  },
  {
   "cell_type": "code",
   "execution_count": 18,
   "metadata": {},
   "outputs": [
    {
     "ename": "ValueError",
     "evalue": "Branch with name `route_email` already exists for node `classify_email`",
     "output_type": "error",
     "traceback": [
      "\u001b[31m---------------------------------------------------------------------------\u001b[39m",
      "\u001b[31mValueError\u001b[39m                                Traceback (most recent call last)",
      "\u001b[36mCell\u001b[39m\u001b[36m \u001b[39m\u001b[32mIn[18]\u001b[39m\u001b[32m, line 7\u001b[39m\n\u001b[32m      4\u001b[39m email_graph.add_edge(\u001b[33m\"\u001b[39m\u001b[33mread_email\u001b[39m\u001b[33m\"\u001b[39m, \u001b[33m\"\u001b[39m\u001b[33mclassify_email\u001b[39m\u001b[33m\"\u001b[39m)  \u001b[38;5;66;03m# After reading, classify the email\u001b[39;00m\n\u001b[32m      6\u001b[39m \u001b[38;5;66;03m# Add conditional branching from classify_email\u001b[39;00m\n\u001b[32m----> \u001b[39m\u001b[32m7\u001b[39m \u001b[43memail_graph\u001b[49m\u001b[43m.\u001b[49m\u001b[43madd_conditional_edges\u001b[49m\u001b[43m(\u001b[49m\n\u001b[32m      8\u001b[39m \u001b[43m    \u001b[49m\u001b[33;43m\"\u001b[39;49m\u001b[33;43mclassify_email\u001b[39;49m\u001b[33;43m\"\u001b[39;49m\u001b[43m,\u001b[49m\n\u001b[32m      9\u001b[39m \u001b[43m    \u001b[49m\u001b[43mroute_email\u001b[49m\u001b[43m,\u001b[49m\u001b[43m \u001b[49m\u001b[38;5;66;43;03m# based on this function..\u001b[39;49;00m\n\u001b[32m     10\u001b[39m \u001b[43m    \u001b[49m\u001b[43m{\u001b[49m\n\u001b[32m     11\u001b[39m \u001b[43m        \u001b[49m\u001b[33;43m\"\u001b[39;49m\u001b[33;43mspam\u001b[39;49m\u001b[33;43m\"\u001b[39;49m\u001b[43m:\u001b[49m\u001b[43m \u001b[49m\u001b[33;43m\"\u001b[39;49m\u001b[33;43mhandle spam\u001b[39;49m\u001b[33;43m\"\u001b[39;49m\u001b[43m,\u001b[49m\u001b[43m  \u001b[49m\u001b[38;5;66;43;03m# .. we route to these nodes\u001b[39;49;00m\n\u001b[32m     12\u001b[39m \u001b[43m        \u001b[49m\u001b[33;43m\"\u001b[39;49m\u001b[33;43mlegitimate\u001b[39;49m\u001b[33;43m\"\u001b[39;49m\u001b[43m:\u001b[49m\u001b[43m \u001b[49m\u001b[33;43m\"\u001b[39;49m\u001b[33;43mdraft response\u001b[39;49m\u001b[33;43m\"\u001b[39;49m\n\u001b[32m     13\u001b[39m \u001b[43m    \u001b[49m\u001b[43m}\u001b[49m\n\u001b[32m     14\u001b[39m \u001b[43m)\u001b[49m\n\u001b[32m     16\u001b[39m \u001b[38;5;66;03m# Add the final edges\u001b[39;00m\n\u001b[32m     17\u001b[39m email_graph.add_edge(\u001b[33m\"\u001b[39m\u001b[33mhandle_spam\u001b[39m\u001b[33m\"\u001b[39m, END)  \u001b[38;5;66;03m# End the process after handling spam\u001b[39;00m\n",
      "\u001b[36mFile \u001b[39m\u001b[32mc:\\ProgramData\\anaconda3\\envs\\aiml25-ma3\\Lib\\site-packages\\langgraph\\graph\\state.py:529\u001b[39m, in \u001b[36mStateGraph.add_conditional_edges\u001b[39m\u001b[34m(self, source, path, path_map, then)\u001b[39m\n\u001b[32m    527\u001b[39m \u001b[38;5;66;03m# validate the condition\u001b[39;00m\n\u001b[32m    528\u001b[39m \u001b[38;5;28;01mif\u001b[39;00m name \u001b[38;5;129;01min\u001b[39;00m \u001b[38;5;28mself\u001b[39m.branches[source]:\n\u001b[32m--> \u001b[39m\u001b[32m529\u001b[39m     \u001b[38;5;28;01mraise\u001b[39;00m \u001b[38;5;167;01mValueError\u001b[39;00m(\n\u001b[32m    530\u001b[39m         \u001b[33mf\u001b[39m\u001b[33m\"\u001b[39m\u001b[33mBranch with name `\u001b[39m\u001b[38;5;132;01m{\u001b[39;00mpath.name\u001b[38;5;132;01m}\u001b[39;00m\u001b[33m` already exists for node \u001b[39m\u001b[33m\"\u001b[39m \u001b[33mf\u001b[39m\u001b[33m\"\u001b[39m\u001b[33m`\u001b[39m\u001b[38;5;132;01m{\u001b[39;00msource\u001b[38;5;132;01m}\u001b[39;00m\u001b[33m`\u001b[39m\u001b[33m\"\u001b[39m\n\u001b[32m    531\u001b[39m     )\n\u001b[32m    532\u001b[39m \u001b[38;5;66;03m# save it\u001b[39;00m\n\u001b[32m    533\u001b[39m \u001b[38;5;28mself\u001b[39m.branches[source][name] = Branch.from_path(path, path_map, then, \u001b[38;5;28;01mTrue\u001b[39;00m)\n",
      "\u001b[31mValueError\u001b[39m: Branch with name `route_email` already exists for node `classify_email`"
     ]
    }
   ],
   "source": [
    "\n",
    "# Start the edges - LangGraph requires a start node\n",
    "email_graph.add_edge(START, \"read_email\")  # Start with reading the email\n",
    "# Add edges - defining the flow\n",
    "email_graph.add_edge(\"read_email\", \"classify_email\")  # After reading, classify the email\n",
    "\n",
    "# Add conditional branching from classify_email\n",
    "email_graph.add_conditional_edges(\n",
    "    \"classify_email\",\n",
    "    route_email, # based on this function..\n",
    "    {\n",
    "        \"spam\": \"handle spam\",  # .. we route to these nodes\n",
    "        \"legitimate\": \"draft response\"\n",
    "    }\n",
    ")\n",
    "\n",
    "# Add the final edges\n",
    "email_graph.add_edge(\"handle_spam\", END)  # End the process after handling spam\n",
    "email_graph.add_edge(\"draft_response\", \"notify\")  # if not spam, we draft a response..\n",
    "email_graph.add_edge(\"notify\", END) # .. and notify us - END\n",
    "\n",
    "# Compile the graph\n",
    "compiled_graph = email_graph.compile()  # Compile the graph"
   ]
  },
  {
   "cell_type": "markdown",
   "metadata": {},
   "source": [
    "Visualize our graph"
   ]
  },
  {
   "cell_type": "code",
   "execution_count": 17,
   "metadata": {},
   "outputs": [
    {
     "ename": "NameError",
     "evalue": "name 'compiled_graph' is not defined",
     "output_type": "error",
     "traceback": [
      "\u001b[31m---------------------------------------------------------------------------\u001b[39m",
      "\u001b[31mNameError\u001b[39m                                 Traceback (most recent call last)",
      "\u001b[36mCell\u001b[39m\u001b[36m \u001b[39m\u001b[32mIn[17]\u001b[39m\u001b[32m, line 1\u001b[39m\n\u001b[32m----> \u001b[39m\u001b[32m1\u001b[39m Image(\u001b[43mcompiled_graph\u001b[49m.get_graph().draw_mermaid_png(draw_method=MermaidDrawMethod.API))\n",
      "\u001b[31mNameError\u001b[39m: name 'compiled_graph' is not defined"
     ]
    }
   ],
   "source": [
    "Image(compiled_graph.get_graph().draw_mermaid_png(draw_method=MermaidDrawMethod.API))"
   ]
  },
  {
   "cell_type": "markdown",
   "metadata": {},
   "source": [
    "## Test our system"
   ]
  },
  {
   "cell_type": "code",
   "execution_count": 43,
   "metadata": {},
   "outputs": [],
   "source": [
    "# Example legitimate email\n",
    "legitimate_email = {\n",
    "    \"sender\": \"john.smith@example.com\",\n",
    "    \"subject\": \"Question about your services\",\n",
    "    \"body\": \"Dear Mr. Valentino, I was referred to you by a colleague and I'm interested in learning more about your consulting services. Could we schedule a call next week? Best regards, John Smith\"\n",
    "}\n",
    "\n",
    "# Example spam email\n",
    "spam_email = {\n",
    "    \"sender\": \"winner@lottery-intl.com\",\n",
    "    \"subject\": \"YOU HAVE WON $5,000,000!!!\",\n",
    "    \"body\": \"CONGRATULATIONS! You have been selected as the winner of our international lottery! To claim your $5,000,000 prize, please send us your bank details and a processing fee of $100.\"\n",
    "}"
   ]
  },
  {
   "cell_type": "code",
   "execution_count": 44,
   "metadata": {},
   "outputs": [
    {
     "name": "stdout",
     "output_type": "stream",
     "text": [
      "\n",
      "Processing legitimate email...\n",
      "Mailbot is processing an email from john.smith@example.com with subject: Question about your services\n",
      "\n",
      "==================================================\n",
      "Hi boss, you've received an email from john.smith@example.com.\n",
      "Subject: Question about your services\n",
      "Category: Relational\n",
      "\n",
      "I've prepared a draft response for your review:\n",
      "--------------------------------------------------\n",
      "Dear Mr. Smith,\n",
      "\n",
      "Thank you for reaching out and your interest in our consulting services.\n",
      "I appreciate the opportunity to provide more information and discuss how we might be able to assist you.\n",
      "Forgive the slight delay, as I am currently away from the office and unable to schedule meetings directly.\n",
      "I would be delighted to have a call with you next week to further explore potential collaboration.\n",
      "Please let me know your availability, and I will do my best to accommodate it.\n",
      "\n",
      "Best regards,\n",
      "[Your Name]\n",
      "[Your Position]\n",
      "[Your Contact Information]\n",
      "==================================================\n",
      "\n"
     ]
    }
   ],
   "source": [
    "\n",
    "# Process the legitimate email\n",
    "print(\"\\nProcessing legitimate email...\")\n",
    "legitimate_result = compiled_graph.invoke(\n",
    "    {\n",
    "        \"email\": legitimate_email, # invoke the graph with the email\n",
    "        \"verbose\": True,  # enable verbose output\n",
    "    }\n",
    ")"
   ]
  },
  {
   "cell_type": "markdown",
   "metadata": {},
   "source": [
    "The output of our system is a `State` object. We can use this to check if our system is working as expected and use the data downstream in our application."
   ]
  },
  {
   "cell_type": "code",
   "execution_count": 45,
   "metadata": {},
   "outputs": [
    {
     "data": {
      "text/plain": [
       "{'email': {'sender': 'john.smith@example.com',\n",
       "  'subject': 'Question about your services',\n",
       "  'body': \"Dear Mr. Valentino, I was referred to you by a colleague and I'm interested in learning more about your consulting services. Could we schedule a call next week? Best regards, John Smith\"},\n",
       " 'email_category': 'Relational',\n",
       " 'spam_reason': 'The email does not contain any suspicious links, requests for personal information, or promotional content. It is a direct inquiry about consulting services from a referred contact.',\n",
       " 'is_spam': False,\n",
       " 'draft': 'Dear Mr. Smith,\\n\\nThank you for reaching out and your interest in our consulting services.\\nI appreciate the opportunity to provide more information and discuss how we might be able to assist you.\\nForgive the slight delay, as I am currently away from the office and unable to schedule meetings directly.\\nI would be delighted to have a call with you next week to further explore potential collaboration.\\nPlease let me know your availability, and I will do my best to accommodate it.\\n\\nBest regards,\\n[Your Name]\\n[Your Position]\\n[Your Contact Information]',\n",
       " 'verbose': True}"
      ]
     },
     "execution_count": 45,
     "metadata": {},
     "output_type": "execute_result"
    }
   ],
   "source": [
    "legitimate_result"
   ]
  },
  {
   "cell_type": "code",
   "execution_count": 46,
   "metadata": {},
   "outputs": [
    {
     "name": "stdout",
     "output_type": "stream",
     "text": [
      "\n",
      "Processing legitimate email...\n",
      "Mailbot is processing an email from winner@lottery-intl.com with subject: YOU HAVE WON $5,000,000!!!\n",
      "Mailbot has identified the email as spam. Reason: The email comes from an unfamiliar domain (lottery-intl.com), promises a large sum of money without any prior involvement or purchase, and asks for personal financial information (bank details) along with a processing fee. These are common characteristics of spam emails.\n",
      "The email has been moved to the spam folder.\n"
     ]
    }
   ],
   "source": [
    "\n",
    "# Process the legitimate email\n",
    "print(\"\\nProcessing legitimate email...\")\n",
    "illegitimate_result = compiled_graph.invoke(\n",
    "    {\n",
    "        \"email\": spam_email, # invoke the graph with the email\n",
    "        \"verbose\": True,  # enable verbose output\n",
    "    }\n",
    ")"
   ]
  },
  {
   "cell_type": "code",
   "execution_count": 47,
   "metadata": {},
   "outputs": [
    {
     "data": {
      "text/plain": [
       "{'email': {'sender': 'winner@lottery-intl.com',\n",
       "  'subject': 'YOU HAVE WON $5,000,000!!!',\n",
       "  'body': 'CONGRATULATIONS! You have been selected as the winner of our international lottery! To claim your $5,000,000 prize, please send us your bank details and a processing fee of $100.'},\n",
       " 'email_category': 'Spam',\n",
       " 'spam_reason': 'The email comes from an unfamiliar domain (lottery-intl.com), promises a large sum of money without any prior involvement or purchase, and asks for personal financial information (bank details) along with a processing fee. These are common characteristics of spam emails.',\n",
       " 'is_spam': True,\n",
       " 'verbose': True}"
      ]
     },
     "execution_count": 47,
     "metadata": {},
     "output_type": "execute_result"
    }
   ],
   "source": [
    "illegitimate_result"
   ]
  },
  {
   "cell_type": "markdown",
   "metadata": {},
   "source": [
    "# Evaluate our system"
   ]
  },
  {
   "cell_type": "markdown",
   "metadata": {},
   "source": [
    "Here is some evaluation data. "
   ]
  },
  {
   "cell_type": "code",
   "execution_count": 48,
   "metadata": {},
   "outputs": [],
   "source": [
    "legitimate_emails = [\n",
    "    {\n",
    "        \"sender\": \"sarah.johnson@acme-corp.com\",\n",
    "        \"subject\": \"Meeting agenda for Thursday\",\n",
    "        \"body\": \"Hi team, Attached is the agenda for our quarterly review meeting on Thursday at 2 PM. Please review the attached documents before we meet. Let me know if you have any questions. Best, Sarah\",\n",
    "        \"is_spam\": False,\n",
    "        \"category\": \"Administrative\"\n",
    "    },\n",
    "    {\n",
    "        \"sender\": \"tech-support@cloudservices.net\",\n",
    "        \"subject\": \"Your support ticket #45928 has been resolved\",\n",
    "        \"body\": \"Dear valued customer, We're pleased to inform you that your recent support ticket regarding login issues has been resolved. If you continue to experience problems, please reply to this email with ticket #45928 in the subject line. Thank you for your patience. - Cloud Services Support Team\",\n",
    "        \"is_spam\": False,\n",
    "        \"category\": \"Transactional\"\n",
    "    },\n",
    "    {\n",
    "        \"sender\": \"notifications@linkedin.com\",\n",
    "        \"subject\": \"Michael Chen has endorsed you for Project Management\",\n",
    "        \"body\": \"Hi Alex, Michael Chen has endorsed you for Project Management on LinkedIn. View your profile to see your endorsements and send a thank you note to Michael.\",\n",
    "        \"is_spam\": False,\n",
    "        \"category\": \"Relational\"\n",
    "    },\n",
    "    {\n",
    "        \"sender\": \"reservation@grandhotel.com\",\n",
    "        \"subject\": \"Confirmation: Your stay on March 5-7, 2025\",\n",
    "        \"body\": \"Dear Ms. Williams, This email confirms your reservation at Grand Hotel for March 5-7, 2025. Check-in: 3 PM, Check-out: 11 AM. Reservation #: GH-789456. We look forward to welcoming you. For changes, please call 555-123-4567. Sincerely, Grand Hotel Reservations\",\n",
    "        \"is_spam\": False,\n",
    "        \"category\": \"Transactional\"\n",
    "    },\n",
    "    {\n",
    "        \"sender\": \"david.wilson@partnercompany.org\",\n",
    "        \"subject\": \"Proposal draft and timeline\",\n",
    "        \"body\": \"Hi Jessica, As discussed in our call yesterday, I've attached the draft proposal and project timeline for your review. Please let me know if you'd like any changes before we present this to the board next week. Regards, David\",\n",
    "        \"is_spam\": False,\n",
    "        \"category\": \"Relational\"\n",
    "    },\n",
    "    {\n",
    "        \"sender\": \"newsletter@industry-insights.com\",\n",
    "        \"subject\": \"March 2025 Newsletter: Industry Trends and Analysis\",\n",
    "        \"body\": \"Industry Insights Newsletter - March 2025 | Featured Article: The Impact of AI on Manufacturing | Upcoming Webinar: Supply Chain Optimization Strategies | Market Analysis: Q1 Reports | To unsubscribe, click here\",\n",
    "        \"is_spam\": False,\n",
    "        \"category\": \"Marketing\"\n",
    "    },\n",
    "    {\n",
    "        \"sender\": \"laura.santos@freelance-writer.me\",\n",
    "        \"subject\": \"Invoice #113 for content writing services\",\n",
    "        \"body\": \"Dear Mr. Reynolds, Please find attached invoice #113 for the content writing services provided in February 2025. Payment terms are net 30 days as per our agreement. Thank you for your business. Best regards, Laura Santos\",\n",
    "        \"is_spam\": False,\n",
    "        \"category\": \"Transactional\"\n",
    "    },\n",
    "    {\n",
    "        \"sender\": \"no-reply@amazon.com\",\n",
    "        \"subject\": \"Your Amazon order #112-7366425-8795621 has shipped\",\n",
    "        \"body\": \"Your package is on its way! Your order of 'Wireless Headphones' has shipped and is expected to arrive on Tuesday, April 2. Track your package: https://amazon.com/track/112-7366425-8795621\",\n",
    "        \"is_spam\": False,\n",
    "        \"category\": \"Transactional\"\n",
    "    },\n",
    "    {\n",
    "        \"sender\": \"alumni@university.edu\",\n",
    "        \"subject\": \"Annual Alumni Fundraising Event - Save the Date\",\n",
    "        \"body\": \"Dear Alumni, We're excited to announce our Annual Fundraising Gala will take place on May 15, 2025, at the University Grand Hall. This year's theme is 'Building Tomorrow's Leaders'. Early bird tickets available until April 10. More details to follow. University Alumni Association\",\n",
    "        \"is_spam\": False,\n",
    "        \"category\": \"Marketing\"\n",
    "    },\n",
    "    {\n",
    "        \"sender\": \"hr@currentemployer.com\",\n",
    "        \"subject\": \"Important: Benefits enrollment period ending soon\",\n",
    "        \"body\": \"Reminder: The annual benefits enrollment period ends on April 10, 2025. Please log in to the HR portal to review and confirm your selections for the upcoming fiscal year. If no changes are made, your current selections will roll over. Human Resources Department\",\n",
    "        \"is_spam\": False,\n",
    "        \"category\": \"Administrative\"\n",
    "    }\n",
    "]\n",
    "\n",
    "spam_emails = [\n",
    "    {\n",
    "        \"sender\": \"security-alert@bankofamerica-secure.info\",\n",
    "        \"subject\": \"Urgent: Your account has been limited\",\n",
    "        \"body\": \"Dear valued customer, We have detected suspicious activity on your account. Your access has been limited for security reasons. Please verify your identity by clicking this link immediately: http://secure-bankofamerica.info/verify\",\n",
    "        \"is_spam\": True,\n",
    "        \"category\": \"Spam\"\n",
    "    },\n",
    "    {\n",
    "        \"sender\": \"employment@career-opportunity.net\",\n",
    "        \"subject\": \"Make $5000/week working from home!\",\n",
    "        \"body\": \"AMAZING OPPORTUNITY! We're looking for serious people who want to earn $5000+ per week working just 2 hours per day from home! No experience needed! Limited positions available! Reply NOW with your name and phone number to secure your spot!\",\n",
    "        \"is_spam\": True,\n",
    "        \"category\": \"Spam\"\n",
    "    },\n",
    "    {\n",
    "        \"sender\": \"prince.nelson@royalfamily-intl.org\",\n",
    "        \"subject\": \"Confidential Business Proposal\",\n",
    "        \"body\": \"Dear Friend, I am Prince Nelson from the Royal Family of Wakanda. I need to transfer $25,000,000 out of my country and require your assistance. In return, you will receive 30% of the funds. Please reply with your bank details to proceed with this transaction. Regards, Prince Nelson\",\n",
    "        \"is_spam\": True,\n",
    "        \"category\": \"Spam\"\n",
    "    },\n",
    "    {\n",
    "        \"sender\": \"billing@netflix-accounts.com\",\n",
    "        \"subject\": \"Netflix Payment Failed - Update Information\",\n",
    "        \"body\": \"Dear Customer, Your Netflix payment method has expired. To avoid service interruption, please update your payment information immediately: http://netflix-account-verify.com/login\",\n",
    "        \"is_spam\": True,\n",
    "        \"category\": \"Spam\"\n",
    "    },\n",
    "    {\n",
    "        \"sender\": \"pharmacy-discounts@medstore24.biz\",\n",
    "        \"subject\": \"70% OFF Premium Medications - No Prescription Needed!\",\n",
    "        \"body\": \"HUGE PHARMACEUTICAL SALE! Get premium medications at 70% OFF regular prices! No prescription required! Overnight shipping available! Viagra, Cialis, Weight Loss Pills, Pain Relief, and more! Order now at www.medstore24.biz\",\n",
    "        \"is_spam\": True,\n",
    "        \"category\": \"Spam\"\n",
    "    },\n",
    "    {\n",
    "        \"sender\": \"customer-service@apple.id-verify.com\",\n",
    "        \"subject\": \"Your Apple ID was used to sign in on a new device\",\n",
    "        \"body\": \"Dear Customer, Your Apple ID was recently used to sign in on an unknown device in Kyiv, Ukraine. If this wasn't you, your account may be compromised. Secure your account now: https://apple-id-verification.com/secure\",\n",
    "        \"is_spam\": True,\n",
    "        \"category\": \"Spam\"\n",
    "    },\n",
    "    {\n",
    "        \"sender\": \"irs.refunds@tax-return-service.org\",\n",
    "        \"subject\": \"IRS: You have a tax refund pending\",\n",
    "        \"body\": \"ATTENTION: The Internal Revenue Service has calculated your tax return and determined you are eligible for an additional refund of $1,427.89. To claim your refund, click here to verify your identity and provide your direct deposit information: https://irs-tax-refunds.org/claim\",\n",
    "        \"is_spam\": True,\n",
    "        \"category\": \"Spam\"\n",
    "    },\n",
    "    {\n",
    "        \"sender\": \"james.wilson@businessproposal.co\",\n",
    "        \"subject\": \"Re: Our discussion last week\",\n",
    "        \"body\": \"Hello, Following up on our discussion last week regarding the investment opportunity. As I mentioned, this is a limited-time offer with 300% guaranteed returns within 3 months. Minimum investment is only $1000. Let me know if you're ready to proceed. James Wilson, Investment Specialist\",\n",
    "        \"is_spam\": True,\n",
    "        \"category\": \"Spam\"\n",
    "    },\n",
    "    {\n",
    "        \"sender\": \"track-delivery@fedex-shipping.info\",\n",
    "        \"subject\": \"FedEx: Your package delivery status\",\n",
    "        \"body\": \"Notification: We attempted to deliver your package today but were unable to due to an incorrect address. To reschedule delivery, please confirm your details here: http://fedex-delivery-reschedule.info/form. Reference: FDX-78542136\",\n",
    "        \"is_spam\": True,\n",
    "        \"category\": \"Spam\"\n",
    "    },\n",
    "    {\n",
    "        \"sender\": \"support@microsoft-security-team.net\",\n",
    "        \"subject\": \"Critical Windows Security Alert - Immediate Action Required\",\n",
    "        \"body\": \"WARNING: Your Windows computer has been infected with dangerous malware that is stealing your personal information. Our security scan detected 13 viruses on your system. Download and run our free security tool immediately to remove these threats: www.microsoft-security-scan.net/download\",\n",
    "        \"is_spam\": True,\n",
    "        \"category\": \"Spam\"\n",
    "    }\n",
    "]"
   ]
  },
  {
   "cell_type": "code",
   "execution_count": null,
   "metadata": {},
   "outputs": [
    {
     "name": "stderr",
     "output_type": "stream",
     "text": [
      "100%|██████████| 20/20 [01:34<00:00,  4.71s/it]\n"
     ]
    }
   ],
   "source": [
    "def evaluate_email_classifications(ground_truth, predictions):\n",
    "    \"\"\"\n",
    "    Evaluate email classification performance.\n",
    "    \n",
    "    Parameters:\n",
    "    - ground_truth: List of email dictionaries with true labels\n",
    "    - predictions: List of state dictionaries with model predictions\n",
    "    \n",
    "    Returns:\n",
    "    - Dictionary containing evaluation metrics\n",
    "    \"\"\"\n",
    "    # Extract true values and predictions\n",
    "    true_spam = [email[\"is_spam\"] for email in ground_truth]\n",
    "    pred_spam = [pred[\"is_spam\"] for pred in predictions]\n",
    "    \n",
    "    # Calculate spam detection metrics\n",
    "    spam_f1 = f1_score(true_spam, pred_spam)\n",
    "    return spam_f1\n",
    "\n",
    "\n",
    "# Combine legitimate and spam emails\n",
    "ground_truth = legitimate_emails + spam_emails\n",
    "\n",
    "predictions = []\n",
    "for email in tqdm(ground_truth):\n",
    "\n",
    "    response = compiled_graph.invoke({\"email\": email, \"verbose\": False})\n",
    "    predictions.append({\"is_spam\": response[\"is_spam\"]})\n",
    "\n",
    "# Evaluate\n",
    "results = evaluate_email_classifications(ground_truth, predictions)\n"
   ]
  },
  {
   "cell_type": "code",
   "execution_count": 52,
   "metadata": {},
   "outputs": [
    {
     "name": "stdout",
     "output_type": "stream",
     "text": [
      "F1 Score for spam detection: 0.82 with model 'watsonx/ibm/granite-3-2-8b-instruct'\n"
     ]
    }
   ],
   "source": [
    "print(f\"F1 Score for spam detection: {results:.2f} with model '{model.model_id}'\")"
   ]
  },
  {
   "cell_type": "markdown",
   "metadata": {},
   "source": [
    "Now what we might do to optimize performance? What else could we evaluate?\n",
    "\n",
    "We could \n",
    "\n",
    "| Optimization directions                     | Description                                                                 |\n",
    "|----------------------------------------------------|-----------------------------------------------------------------------------|\n",
    "| Update our system prompts                          | Refine the prompts to improve LLM understanding and output quality.        |\n",
    "| Add more nodes to our system                       | Introduce additional functionalities, such as an LLM-as-a-reviewer node.   |\n",
    "| Change the LLM                                     | Experiment with different language models to compare performance.          |\n",
    "| Change the LLM parameters                          | Adjust parameters like temperature or token limits for better results.     |\n",
    "| Add definitions for our categories                 | Provide clear definitions to improve classification accuracy.              |\n",
    "\n",
    "\n",
    "We could also evaluate our category classifier and spam classifier separately."
   ]
  }
 ],
 "metadata": {
  "kernelspec": {
   "display_name": "aiml25-ma3",
   "language": "python",
   "name": "python3"
  },
  "language_info": {
   "codemirror_mode": {
    "name": "ipython",
    "version": 3
   },
   "file_extension": ".py",
   "mimetype": "text/x-python",
   "name": "python",
   "nbconvert_exporter": "python",
   "pygments_lexer": "ipython3",
   "version": "3.11.12"
  }
 },
 "nbformat": 4,
 "nbformat_minor": 2
}
